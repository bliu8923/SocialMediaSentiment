{
 "cells": [
  {
   "cell_type": "code",
   "execution_count": 2,
   "metadata": {},
   "outputs": [],
   "source": [
    "import requests as re\n",
    "from vaderSentiment.vaderSentiment import SentimentIntensityAnalyzer\n",
    "import pandas as pd\n",
    "import numpy as np\n",
    "import os\n",
    "import sys\n",
    "import time\n",
    "import spacy\n",
    "from spacytextblob.spacytextblob import SpacyTextBlob"
   ]
  },
  {
   "cell_type": "code",
   "execution_count": 3,
   "outputs": [
    {
     "name": "stdout",
     "output_type": "stream",
     "text": [
      "3.9.6\n"
     ]
    }
   ],
   "source": [
    "from platform import python_version\n",
    "\n",
    "print(python_version())"
   ],
   "metadata": {
    "collapsed": false,
    "pycharm": {
     "name": "#%%\n"
    }
   }
  },
  {
   "cell_type": "code",
   "execution_count": 4,
   "metadata": {
    "pycharm": {
     "name": "#%%\n"
    }
   },
   "outputs": [],
   "source": [
    "def flatten(input):\n",
    "    new_list = []\n",
    "    for i in input:\n",
    "        if not (isinstance(i, str)):\n",
    "            for j in i:\n",
    "                new_list.append(j)\n",
    "        else:\n",
    "            new_list.append(i)\n",
    "    return new_list\n",
    "\n",
    "df = pd.DataFrame()\n",
    "while len(df) < 1000:\n",
    "    if len(df) == 0:\n",
    "        r = re.get('https://api.pushshift.io/reddit/search/submission/?subreddit=CryptoCurrency&size=100')\n",
    "    else:\n",
    "        r = re.get('https://api.pushshift.io/reddit/search/submission/?subreddit=CryptoCurrency&size=100&before=' + str(int(df.iloc[-1]['created_utc'])))\n",
    "    if r.status_code == 200:\n",
    "        r = pd.json_normalize(r.json(), record_path='data')[['author', 'created_utc', 'id', 'is_self', 'link_flair_text', 'num_comments', 'removed_by_category', 'score', 'selftext', 'title', 'url']]\n",
    "        r = r.where((len(r['selftext']) > 1) & (r['selftext'] != '[removed]') & (r['selftext'] != '[deleted]') & (r['removed_by_category'].isna())).dropna(how='all')\n",
    "        r['selftext'] = r['selftext'].str.split('.')\n",
    "        r['data'] = r[['title', 'selftext']].values.tolist()\n",
    "        r['data'] = r['data'].apply(flatten)\n",
    "        df = pd.concat([df, r], ignore_index=True)\n",
    "    else:\n",
    "        time.sleep(15)\n",
    "os.remove('posts.csv')\n",
    "df.to_csv('posts.csv')"
   ]
  },
  {
   "cell_type": "code",
   "execution_count": 5,
   "metadata": {
    "pycharm": {
     "name": "#%%\n"
    }
   },
   "outputs": [
    {
     "data": {
      "text/plain": "                author   created_utc      id  is_self      link_flair_text  \\\n0         TwistedFluke  1.628996e+09  p4ljkg      1.0          PERSPECTIVE   \n1          johnnylaw54  1.628996e+09  p4ljc9      0.0              MOONS 🌕   \n2              cho0n22  1.628996e+09  p4lhcm      0.0             POLITICS   \n3         holyshithead  1.628995e+09  p4lg9e      1.0              SUPPORT   \n4               Lj3380  1.628995e+09  p4lg3p      1.0                  NaN   \n...                ...           ...     ...      ...                  ...   \n1029             DoeyB  1.628950e+09  p48jqt      1.0           SELF-STORY   \n1030        kitisgreat  1.628950e+09  p48jqf      0.0              FINANCE   \n1031  Caralynethegreat  1.628950e+09  p48is3      0.0              FINANCE   \n1032          dalinara  1.628950e+09  p48ijg      0.0  🔴 UNRELIABLE SOURCE   \n1033  pseudoHappyHippy  1.628950e+09  p48ijb      1.0              🌕 MOONS   \n\n      num_comments removed_by_category  score  \\\n0              0.0                 NaN    1.0   \n1              0.0                 NaN    1.0   \n2              0.0                 NaN    1.0   \n3              1.0                 NaN    1.0   \n4              0.0                 NaN    1.0   \n...            ...                 ...    ...   \n1029           0.0                 NaN    1.0   \n1030           0.0                 NaN    1.0   \n1031           0.0                 NaN    1.0   \n1032           2.0                 NaN    1.0   \n1033           1.0                 NaN    1.0   \n\n                                               selftext  \\\n0     [We all thrive to make profit for a range of g...   \n1                                                    []   \n2                                                    []   \n3     [I just got to thinking after hearing that Mar...   \n4     [Slow and steady, it looks like BAT is coming ...   \n...                                                 ...   \n1029  [Just thought id like to make a friendly remin...   \n1030                                                 []   \n1031                                                 []   \n1032                                                 []   \n1033  [I often hear on here that 1:normalmoon: = 1:n...   \n\n                                                  title  \\\n0     What would you do if you hit big on crypto and...   \n1                                      All hail VETHOR!   \n2             Are Crypto's High Trading Volumes A Scam?   \n3     What if doge exists now only to ruin the crypt...   \n4                                             BAT Token   \n...                                                 ...   \n1029                  The importance of multiple emails   \n1030  Surprising Investor: Intel Now Owns Coinbase S...   \n1031  Nearly 30% of Canadians Are Cryptocurrency Inv...   \n1032  XRP chart triggers sell-off warning after pric...   \n1033             1 MOON = 2 MOONs: A mathematical proof   \n\n                                                    url  \\\n0     https://www.reddit.com/r/CryptoCurrency/commen...   \n1     https://marketrealist.com/p/vethor-vtho-price-...   \n2     https://finance.yahoo.com/m/e1945811-b6db-31eb...   \n3     https://www.reddit.com/r/CryptoCurrency/commen...   \n4     https://www.reddit.com/r/CryptoCurrency/commen...   \n...                                                 ...   \n1029  https://www.reddit.com/r/CryptoCurrency/commen...   \n1030  https://cryptopotato.com/surprising-investor-i...   \n1031  https://cryptopotato.com/nearly-30-of-canadian...   \n1032  https://cointelegraph.com/news/xrp-chart-trigg...   \n1033  https://www.reddit.com/r/CryptoCurrency/commen...   \n\n                                                   data  \\\n0     [What would you do if you hit big on crypto an...   \n1                                  [All hail VETHOR!, ]   \n2         [Are Crypto's High Trading Volumes A Scam?, ]   \n3     [What if doge exists now only to ruin the cryp...   \n4     [BAT Token, Slow and steady, it looks like BAT...   \n...                                                 ...   \n1029  [The importance of multiple emails, Just thoug...   \n1030  [Surprising Investor: Intel Now Owns Coinbase ...   \n1031  [Nearly 30% of Canadians Are Cryptocurrency In...   \n1032  [XRP chart triggers sell-off warning after pri...   \n1033  [1 MOON = 2 MOONs: A mathematical proof, I oft...   \n\n                                      neg  \\\n0               [0.0, 0.0, 0.0, 0.0, 0.0]   \n1                              [0.0, 0.0]   \n2                            [0.381, 0.0]   \n3     [0.18, 0.0, 0.083, 0.135, 0.0, 0.0]   \n4                    [0.0, 0.0, 0.0, 0.0]   \n...                                   ...   \n1029          [0.0, 0.048, 0.0, 0.0, 0.0]   \n1030                           [0.0, 0.0]   \n1031                           [0.0, 0.0]   \n1032                         [0.167, 0.0]   \n1033       [0.0, 0.0, 0.0, 0.0, 0.0, 0.0]   \n\n                                           neu  \\\n0              [1.0, 0.775, 0.906, 0.767, 0.0]   \n1                                 [0.557, 0.0]   \n2                                 [0.619, 0.0]   \n3     [0.711, 0.946, 0.917, 0.865, 0.803, 0.0]   \n4                   [1.0, 0.848, 0.811, 0.813]   \n...                                        ...   \n1029         [0.615, 0.836, 1.0, 0.805, 0.885]   \n1030                              [0.538, 0.0]   \n1031                                [1.0, 0.0]   \n1032                              [0.833, 0.0]   \n1033       [1.0, 1.0, 0.64, 0.685, 0.983, 0.0]   \n\n                                       pos  \\\n0          [0.0, 0.225, 0.094, 0.233, 0.0]   \n1                             [0.443, 0.0]   \n2                               [0.0, 0.0]   \n3     [0.109, 0.054, 0.0, 0.0, 0.197, 0.0]   \n4               [0.0, 0.152, 0.189, 0.187]   \n...                                    ...   \n1029     [0.385, 0.117, 0.0, 0.195, 0.115]   \n1030                          [0.462, 0.0]   \n1031                            [0.0, 0.0]   \n1032                            [0.0, 0.0]   \n1033   [0.0, 0.0, 0.36, 0.315, 0.017, 0.0]   \n\n                                              compound  \n0                   [0.0, 0.4404, 0.3612, 0.6682, 0.0]  \n1                                        [0.1511, 0.0]  \n2                                       [-0.5719, 0.0]  \n3     [-0.3612, 0.3612, -0.4019, -0.4215, 0.4019, 0.0]  \n4                        [0.0, 0.3612, 0.4215, 0.5362]  \n...                                                ...  \n1029             [0.3612, 0.8934, 0.0, 0.4404, 0.6652]  \n1030                                     [0.5106, 0.0]  \n1031                                        [0.0, 0.0]  \n1032                                      [-0.34, 0.0]  \n1033           [0.0, 0.0, 0.5423, 0.3182, 0.3612, 0.0]  \n\n[1034 rows x 16 columns]",
      "text/html": "<div>\n<style scoped>\n    .dataframe tbody tr th:only-of-type {\n        vertical-align: middle;\n    }\n\n    .dataframe tbody tr th {\n        vertical-align: top;\n    }\n\n    .dataframe thead th {\n        text-align: right;\n    }\n</style>\n<table border=\"1\" class=\"dataframe\">\n  <thead>\n    <tr style=\"text-align: right;\">\n      <th></th>\n      <th>author</th>\n      <th>created_utc</th>\n      <th>id</th>\n      <th>is_self</th>\n      <th>link_flair_text</th>\n      <th>num_comments</th>\n      <th>removed_by_category</th>\n      <th>score</th>\n      <th>selftext</th>\n      <th>title</th>\n      <th>url</th>\n      <th>data</th>\n      <th>neg</th>\n      <th>neu</th>\n      <th>pos</th>\n      <th>compound</th>\n    </tr>\n  </thead>\n  <tbody>\n    <tr>\n      <th>0</th>\n      <td>TwistedFluke</td>\n      <td>1.628996e+09</td>\n      <td>p4ljkg</td>\n      <td>1.0</td>\n      <td>PERSPECTIVE</td>\n      <td>0.0</td>\n      <td>NaN</td>\n      <td>1.0</td>\n      <td>[We all thrive to make profit for a range of g...</td>\n      <td>What would you do if you hit big on crypto and...</td>\n      <td>https://www.reddit.com/r/CryptoCurrency/commen...</td>\n      <td>[What would you do if you hit big on crypto an...</td>\n      <td>[0.0, 0.0, 0.0, 0.0, 0.0]</td>\n      <td>[1.0, 0.775, 0.906, 0.767, 0.0]</td>\n      <td>[0.0, 0.225, 0.094, 0.233, 0.0]</td>\n      <td>[0.0, 0.4404, 0.3612, 0.6682, 0.0]</td>\n    </tr>\n    <tr>\n      <th>1</th>\n      <td>johnnylaw54</td>\n      <td>1.628996e+09</td>\n      <td>p4ljc9</td>\n      <td>0.0</td>\n      <td>MOONS 🌕</td>\n      <td>0.0</td>\n      <td>NaN</td>\n      <td>1.0</td>\n      <td>[]</td>\n      <td>All hail VETHOR!</td>\n      <td>https://marketrealist.com/p/vethor-vtho-price-...</td>\n      <td>[All hail VETHOR!, ]</td>\n      <td>[0.0, 0.0]</td>\n      <td>[0.557, 0.0]</td>\n      <td>[0.443, 0.0]</td>\n      <td>[0.1511, 0.0]</td>\n    </tr>\n    <tr>\n      <th>2</th>\n      <td>cho0n22</td>\n      <td>1.628996e+09</td>\n      <td>p4lhcm</td>\n      <td>0.0</td>\n      <td>POLITICS</td>\n      <td>0.0</td>\n      <td>NaN</td>\n      <td>1.0</td>\n      <td>[]</td>\n      <td>Are Crypto's High Trading Volumes A Scam?</td>\n      <td>https://finance.yahoo.com/m/e1945811-b6db-31eb...</td>\n      <td>[Are Crypto's High Trading Volumes A Scam?, ]</td>\n      <td>[0.381, 0.0]</td>\n      <td>[0.619, 0.0]</td>\n      <td>[0.0, 0.0]</td>\n      <td>[-0.5719, 0.0]</td>\n    </tr>\n    <tr>\n      <th>3</th>\n      <td>holyshithead</td>\n      <td>1.628995e+09</td>\n      <td>p4lg9e</td>\n      <td>1.0</td>\n      <td>SUPPORT</td>\n      <td>1.0</td>\n      <td>NaN</td>\n      <td>1.0</td>\n      <td>[I just got to thinking after hearing that Mar...</td>\n      <td>What if doge exists now only to ruin the crypt...</td>\n      <td>https://www.reddit.com/r/CryptoCurrency/commen...</td>\n      <td>[What if doge exists now only to ruin the cryp...</td>\n      <td>[0.18, 0.0, 0.083, 0.135, 0.0, 0.0]</td>\n      <td>[0.711, 0.946, 0.917, 0.865, 0.803, 0.0]</td>\n      <td>[0.109, 0.054, 0.0, 0.0, 0.197, 0.0]</td>\n      <td>[-0.3612, 0.3612, -0.4019, -0.4215, 0.4019, 0.0]</td>\n    </tr>\n    <tr>\n      <th>4</th>\n      <td>Lj3380</td>\n      <td>1.628995e+09</td>\n      <td>p4lg3p</td>\n      <td>1.0</td>\n      <td>NaN</td>\n      <td>0.0</td>\n      <td>NaN</td>\n      <td>1.0</td>\n      <td>[Slow and steady, it looks like BAT is coming ...</td>\n      <td>BAT Token</td>\n      <td>https://www.reddit.com/r/CryptoCurrency/commen...</td>\n      <td>[BAT Token, Slow and steady, it looks like BAT...</td>\n      <td>[0.0, 0.0, 0.0, 0.0]</td>\n      <td>[1.0, 0.848, 0.811, 0.813]</td>\n      <td>[0.0, 0.152, 0.189, 0.187]</td>\n      <td>[0.0, 0.3612, 0.4215, 0.5362]</td>\n    </tr>\n    <tr>\n      <th>...</th>\n      <td>...</td>\n      <td>...</td>\n      <td>...</td>\n      <td>...</td>\n      <td>...</td>\n      <td>...</td>\n      <td>...</td>\n      <td>...</td>\n      <td>...</td>\n      <td>...</td>\n      <td>...</td>\n      <td>...</td>\n      <td>...</td>\n      <td>...</td>\n      <td>...</td>\n      <td>...</td>\n    </tr>\n    <tr>\n      <th>1029</th>\n      <td>DoeyB</td>\n      <td>1.628950e+09</td>\n      <td>p48jqt</td>\n      <td>1.0</td>\n      <td>SELF-STORY</td>\n      <td>0.0</td>\n      <td>NaN</td>\n      <td>1.0</td>\n      <td>[Just thought id like to make a friendly remin...</td>\n      <td>The importance of multiple emails</td>\n      <td>https://www.reddit.com/r/CryptoCurrency/commen...</td>\n      <td>[The importance of multiple emails, Just thoug...</td>\n      <td>[0.0, 0.048, 0.0, 0.0, 0.0]</td>\n      <td>[0.615, 0.836, 1.0, 0.805, 0.885]</td>\n      <td>[0.385, 0.117, 0.0, 0.195, 0.115]</td>\n      <td>[0.3612, 0.8934, 0.0, 0.4404, 0.6652]</td>\n    </tr>\n    <tr>\n      <th>1030</th>\n      <td>kitisgreat</td>\n      <td>1.628950e+09</td>\n      <td>p48jqf</td>\n      <td>0.0</td>\n      <td>FINANCE</td>\n      <td>0.0</td>\n      <td>NaN</td>\n      <td>1.0</td>\n      <td>[]</td>\n      <td>Surprising Investor: Intel Now Owns Coinbase S...</td>\n      <td>https://cryptopotato.com/surprising-investor-i...</td>\n      <td>[Surprising Investor: Intel Now Owns Coinbase ...</td>\n      <td>[0.0, 0.0]</td>\n      <td>[0.538, 0.0]</td>\n      <td>[0.462, 0.0]</td>\n      <td>[0.5106, 0.0]</td>\n    </tr>\n    <tr>\n      <th>1031</th>\n      <td>Caralynethegreat</td>\n      <td>1.628950e+09</td>\n      <td>p48is3</td>\n      <td>0.0</td>\n      <td>FINANCE</td>\n      <td>0.0</td>\n      <td>NaN</td>\n      <td>1.0</td>\n      <td>[]</td>\n      <td>Nearly 30% of Canadians Are Cryptocurrency Inv...</td>\n      <td>https://cryptopotato.com/nearly-30-of-canadian...</td>\n      <td>[Nearly 30% of Canadians Are Cryptocurrency In...</td>\n      <td>[0.0, 0.0]</td>\n      <td>[1.0, 0.0]</td>\n      <td>[0.0, 0.0]</td>\n      <td>[0.0, 0.0]</td>\n    </tr>\n    <tr>\n      <th>1032</th>\n      <td>dalinara</td>\n      <td>1.628950e+09</td>\n      <td>p48ijg</td>\n      <td>0.0</td>\n      <td>🔴 UNRELIABLE SOURCE</td>\n      <td>2.0</td>\n      <td>NaN</td>\n      <td>1.0</td>\n      <td>[]</td>\n      <td>XRP chart triggers sell-off warning after pric...</td>\n      <td>https://cointelegraph.com/news/xrp-chart-trigg...</td>\n      <td>[XRP chart triggers sell-off warning after pri...</td>\n      <td>[0.167, 0.0]</td>\n      <td>[0.833, 0.0]</td>\n      <td>[0.0, 0.0]</td>\n      <td>[-0.34, 0.0]</td>\n    </tr>\n    <tr>\n      <th>1033</th>\n      <td>pseudoHappyHippy</td>\n      <td>1.628950e+09</td>\n      <td>p48ijb</td>\n      <td>1.0</td>\n      <td>🌕 MOONS</td>\n      <td>1.0</td>\n      <td>NaN</td>\n      <td>1.0</td>\n      <td>[I often hear on here that 1:normalmoon: = 1:n...</td>\n      <td>1 MOON = 2 MOONs: A mathematical proof</td>\n      <td>https://www.reddit.com/r/CryptoCurrency/commen...</td>\n      <td>[1 MOON = 2 MOONs: A mathematical proof, I oft...</td>\n      <td>[0.0, 0.0, 0.0, 0.0, 0.0, 0.0]</td>\n      <td>[1.0, 1.0, 0.64, 0.685, 0.983, 0.0]</td>\n      <td>[0.0, 0.0, 0.36, 0.315, 0.017, 0.0]</td>\n      <td>[0.0, 0.0, 0.5423, 0.3182, 0.3612, 0.0]</td>\n    </tr>\n  </tbody>\n</table>\n<p>1034 rows × 16 columns</p>\n</div>"
     },
     "execution_count": 5,
     "metadata": {},
     "output_type": "execute_result"
    }
   ],
   "source": [
    "analyzer = SentimentIntensityAnalyzer()\n",
    "\n",
    "def senticol(cols):\n",
    "    scores = {'neg':[], 'neu':[], 'pos':[], 'compound':[]}\n",
    "    for i in range(0, len(cols['data'])):\n",
    "        score = analyzer.polarity_scores(cols['data'][i])\n",
    "        scores['neg'].append(score['neg'])\n",
    "        scores['neu'].append(score['neu'])\n",
    "        scores['pos'].append(score['pos'])\n",
    "        scores['compound'].append(score['compound'])\n",
    "    return pd.Series([scores['neg'], scores['neu'], scores['pos'], scores['compound']])\n",
    "\n",
    "texts = df\n",
    "texts[['neg','neu','pos','compound']] = texts.apply(senticol, axis=1)\n",
    "os.remove('newscores.csv')\n",
    "texts.to_csv('newscores.csv')\n",
    "texts"
   ]
  },
  {
   "cell_type": "code",
   "execution_count": 6,
   "outputs": [
    {
     "name": "stderr",
     "output_type": "stream",
     "text": [
      "C:\\Users\\tbone\\AppData\\Local\\Packages\\PythonSoftwareFoundation.Python.3.9_qbz5n2kfra8p0\\LocalCache\\local-packages\\Python39\\site-packages\\numpy\\core\\fromnumeric.py:3372: RuntimeWarning: Mean of empty slice.\n",
      "  return _methods._mean(a, axis=axis, dtype=dtype,\n"
     ]
    },
    {
     "data": {
      "text/plain": "                author   created_utc      id  is_self      link_flair_text  \\\n0         TwistedFluke  1.628996e+09  p4ljkg      1.0          PERSPECTIVE   \n1          johnnylaw54  1.628996e+09  p4ljc9      0.0              MOONS 🌕   \n2              cho0n22  1.628996e+09  p4lhcm      0.0             POLITICS   \n3         holyshithead  1.628995e+09  p4lg9e      1.0              SUPPORT   \n4               Lj3380  1.628995e+09  p4lg3p      1.0                  NaN   \n...                ...           ...     ...      ...                  ...   \n1029             DoeyB  1.628950e+09  p48jqt      1.0           SELF-STORY   \n1030        kitisgreat  1.628950e+09  p48jqf      0.0              FINANCE   \n1031  Caralynethegreat  1.628950e+09  p48is3      0.0              FINANCE   \n1032          dalinara  1.628950e+09  p48ijg      0.0  🔴 UNRELIABLE SOURCE   \n1033  pseudoHappyHippy  1.628950e+09  p48ijb      1.0              🌕 MOONS   \n\n      num_comments removed_by_category  score  \\\n0              0.0                 NaN    1.0   \n1              0.0                 NaN    1.0   \n2              0.0                 NaN    1.0   \n3              1.0                 NaN    1.0   \n4              0.0                 NaN    1.0   \n...            ...                 ...    ...   \n1029           0.0                 NaN    1.0   \n1030           0.0                 NaN    1.0   \n1031           0.0                 NaN    1.0   \n1032           2.0                 NaN    1.0   \n1033           1.0                 NaN    1.0   \n\n                                               selftext  \\\n0     [We all thrive to make profit for a range of g...   \n1                                                    []   \n2                                                    []   \n3     [I just got to thinking after hearing that Mar...   \n4     [Slow and steady, it looks like BAT is coming ...   \n...                                                 ...   \n1029  [Just thought id like to make a friendly remin...   \n1030                                                 []   \n1031                                                 []   \n1032                                                 []   \n1033  [I often hear on here that 1:normalmoon: = 1:n...   \n\n                                                  title  \\\n0     What would you do if you hit big on crypto and...   \n1                                      All hail VETHOR!   \n2             Are Crypto's High Trading Volumes A Scam?   \n3     What if doge exists now only to ruin the crypt...   \n4                                             BAT Token   \n...                                                 ...   \n1029                  The importance of multiple emails   \n1030  Surprising Investor: Intel Now Owns Coinbase S...   \n1031  Nearly 30% of Canadians Are Cryptocurrency Inv...   \n1032  XRP chart triggers sell-off warning after pric...   \n1033             1 MOON = 2 MOONs: A mathematical proof   \n\n                                                    url  \\\n0     https://www.reddit.com/r/CryptoCurrency/commen...   \n1     https://marketrealist.com/p/vethor-vtho-price-...   \n2     https://finance.yahoo.com/m/e1945811-b6db-31eb...   \n3     https://www.reddit.com/r/CryptoCurrency/commen...   \n4     https://www.reddit.com/r/CryptoCurrency/commen...   \n...                                                 ...   \n1029  https://www.reddit.com/r/CryptoCurrency/commen...   \n1030  https://cryptopotato.com/surprising-investor-i...   \n1031  https://cryptopotato.com/nearly-30-of-canadian...   \n1032  https://cointelegraph.com/news/xrp-chart-trigg...   \n1033  https://www.reddit.com/r/CryptoCurrency/commen...   \n\n                                                   data  \\\n0     [What would you do if you hit big on crypto an...   \n1                                  [All hail VETHOR!, ]   \n2         [Are Crypto's High Trading Volumes A Scam?, ]   \n3     [What if doge exists now only to ruin the cryp...   \n4     [BAT Token, Slow and steady, it looks like BAT...   \n...                                                 ...   \n1029  [The importance of multiple emails, Just thoug...   \n1030  [Surprising Investor: Intel Now Owns Coinbase ...   \n1031  [Nearly 30% of Canadians Are Cryptocurrency In...   \n1032  [XRP chart triggers sell-off warning after pri...   \n1033  [1 MOON = 2 MOONs: A mathematical proof, I oft...   \n\n                                      neg  \\\n0               [0.0, 0.0, 0.0, 0.0, 0.0]   \n1                              [0.0, 0.0]   \n2                            [0.381, 0.0]   \n3     [0.18, 0.0, 0.083, 0.135, 0.0, 0.0]   \n4                    [0.0, 0.0, 0.0, 0.0]   \n...                                   ...   \n1029          [0.0, 0.048, 0.0, 0.0, 0.0]   \n1030                           [0.0, 0.0]   \n1031                           [0.0, 0.0]   \n1032                         [0.167, 0.0]   \n1033       [0.0, 0.0, 0.0, 0.0, 0.0, 0.0]   \n\n                                           neu  \\\n0              [1.0, 0.775, 0.906, 0.767, 0.0]   \n1                                 [0.557, 0.0]   \n2                                 [0.619, 0.0]   \n3     [0.711, 0.946, 0.917, 0.865, 0.803, 0.0]   \n4                   [1.0, 0.848, 0.811, 0.813]   \n...                                        ...   \n1029         [0.615, 0.836, 1.0, 0.805, 0.885]   \n1030                              [0.538, 0.0]   \n1031                                [1.0, 0.0]   \n1032                              [0.833, 0.0]   \n1033       [1.0, 1.0, 0.64, 0.685, 0.983, 0.0]   \n\n                                       pos  \\\n0          [0.0, 0.225, 0.094, 0.233, 0.0]   \n1                             [0.443, 0.0]   \n2                               [0.0, 0.0]   \n3     [0.109, 0.054, 0.0, 0.0, 0.197, 0.0]   \n4               [0.0, 0.152, 0.189, 0.187]   \n...                                    ...   \n1029     [0.385, 0.117, 0.0, 0.195, 0.115]   \n1030                          [0.462, 0.0]   \n1031                            [0.0, 0.0]   \n1032                            [0.0, 0.0]   \n1033   [0.0, 0.0, 0.36, 0.315, 0.017, 0.0]   \n\n                                              compound  \\\n0                   [0.0, 0.4404, 0.3612, 0.6682, 0.0]   \n1                                        [0.1511, 0.0]   \n2                                       [-0.5719, 0.0]   \n3     [-0.3612, 0.3612, -0.4019, -0.4215, 0.4019, 0.0]   \n4                        [0.0, 0.3612, 0.4215, 0.5362]   \n...                                                ...   \n1029             [0.3612, 0.8934, 0.0, 0.4404, 0.6652]   \n1030                                     [0.5106, 0.0]   \n1031                                        [0.0, 0.0]   \n1032                                      [-0.34, 0.0]   \n1033           [0.0, 0.0, 0.5423, 0.3182, 0.3612, 0.0]   \n\n                                         comp_mod  comp_means  \n0                        [0.4404, 0.3612, 0.6682]    0.489933  \n1                                        [0.1511]    0.151100  \n2                                       [-0.5719]   -0.571900  \n3     [-0.3612, 0.3612, -0.4019, -0.4215, 0.4019]   -0.084300  \n4                        [0.3612, 0.4215, 0.5362]    0.439633  \n...                                           ...         ...  \n1029             [0.3612, 0.8934, 0.4404, 0.6652]    0.590050  \n1030                                     [0.5106]    0.510600  \n1031                                           []    0.000000  \n1032                                      [-0.34]   -0.340000  \n1033                     [0.5423, 0.3182, 0.3612]    0.407233  \n\n[1034 rows x 18 columns]",
      "text/html": "<div>\n<style scoped>\n    .dataframe tbody tr th:only-of-type {\n        vertical-align: middle;\n    }\n\n    .dataframe tbody tr th {\n        vertical-align: top;\n    }\n\n    .dataframe thead th {\n        text-align: right;\n    }\n</style>\n<table border=\"1\" class=\"dataframe\">\n  <thead>\n    <tr style=\"text-align: right;\">\n      <th></th>\n      <th>author</th>\n      <th>created_utc</th>\n      <th>id</th>\n      <th>is_self</th>\n      <th>link_flair_text</th>\n      <th>num_comments</th>\n      <th>removed_by_category</th>\n      <th>score</th>\n      <th>selftext</th>\n      <th>title</th>\n      <th>url</th>\n      <th>data</th>\n      <th>neg</th>\n      <th>neu</th>\n      <th>pos</th>\n      <th>compound</th>\n      <th>comp_mod</th>\n      <th>comp_means</th>\n    </tr>\n  </thead>\n  <tbody>\n    <tr>\n      <th>0</th>\n      <td>TwistedFluke</td>\n      <td>1.628996e+09</td>\n      <td>p4ljkg</td>\n      <td>1.0</td>\n      <td>PERSPECTIVE</td>\n      <td>0.0</td>\n      <td>NaN</td>\n      <td>1.0</td>\n      <td>[We all thrive to make profit for a range of g...</td>\n      <td>What would you do if you hit big on crypto and...</td>\n      <td>https://www.reddit.com/r/CryptoCurrency/commen...</td>\n      <td>[What would you do if you hit big on crypto an...</td>\n      <td>[0.0, 0.0, 0.0, 0.0, 0.0]</td>\n      <td>[1.0, 0.775, 0.906, 0.767, 0.0]</td>\n      <td>[0.0, 0.225, 0.094, 0.233, 0.0]</td>\n      <td>[0.0, 0.4404, 0.3612, 0.6682, 0.0]</td>\n      <td>[0.4404, 0.3612, 0.6682]</td>\n      <td>0.489933</td>\n    </tr>\n    <tr>\n      <th>1</th>\n      <td>johnnylaw54</td>\n      <td>1.628996e+09</td>\n      <td>p4ljc9</td>\n      <td>0.0</td>\n      <td>MOONS 🌕</td>\n      <td>0.0</td>\n      <td>NaN</td>\n      <td>1.0</td>\n      <td>[]</td>\n      <td>All hail VETHOR!</td>\n      <td>https://marketrealist.com/p/vethor-vtho-price-...</td>\n      <td>[All hail VETHOR!, ]</td>\n      <td>[0.0, 0.0]</td>\n      <td>[0.557, 0.0]</td>\n      <td>[0.443, 0.0]</td>\n      <td>[0.1511, 0.0]</td>\n      <td>[0.1511]</td>\n      <td>0.151100</td>\n    </tr>\n    <tr>\n      <th>2</th>\n      <td>cho0n22</td>\n      <td>1.628996e+09</td>\n      <td>p4lhcm</td>\n      <td>0.0</td>\n      <td>POLITICS</td>\n      <td>0.0</td>\n      <td>NaN</td>\n      <td>1.0</td>\n      <td>[]</td>\n      <td>Are Crypto's High Trading Volumes A Scam?</td>\n      <td>https://finance.yahoo.com/m/e1945811-b6db-31eb...</td>\n      <td>[Are Crypto's High Trading Volumes A Scam?, ]</td>\n      <td>[0.381, 0.0]</td>\n      <td>[0.619, 0.0]</td>\n      <td>[0.0, 0.0]</td>\n      <td>[-0.5719, 0.0]</td>\n      <td>[-0.5719]</td>\n      <td>-0.571900</td>\n    </tr>\n    <tr>\n      <th>3</th>\n      <td>holyshithead</td>\n      <td>1.628995e+09</td>\n      <td>p4lg9e</td>\n      <td>1.0</td>\n      <td>SUPPORT</td>\n      <td>1.0</td>\n      <td>NaN</td>\n      <td>1.0</td>\n      <td>[I just got to thinking after hearing that Mar...</td>\n      <td>What if doge exists now only to ruin the crypt...</td>\n      <td>https://www.reddit.com/r/CryptoCurrency/commen...</td>\n      <td>[What if doge exists now only to ruin the cryp...</td>\n      <td>[0.18, 0.0, 0.083, 0.135, 0.0, 0.0]</td>\n      <td>[0.711, 0.946, 0.917, 0.865, 0.803, 0.0]</td>\n      <td>[0.109, 0.054, 0.0, 0.0, 0.197, 0.0]</td>\n      <td>[-0.3612, 0.3612, -0.4019, -0.4215, 0.4019, 0.0]</td>\n      <td>[-0.3612, 0.3612, -0.4019, -0.4215, 0.4019]</td>\n      <td>-0.084300</td>\n    </tr>\n    <tr>\n      <th>4</th>\n      <td>Lj3380</td>\n      <td>1.628995e+09</td>\n      <td>p4lg3p</td>\n      <td>1.0</td>\n      <td>NaN</td>\n      <td>0.0</td>\n      <td>NaN</td>\n      <td>1.0</td>\n      <td>[Slow and steady, it looks like BAT is coming ...</td>\n      <td>BAT Token</td>\n      <td>https://www.reddit.com/r/CryptoCurrency/commen...</td>\n      <td>[BAT Token, Slow and steady, it looks like BAT...</td>\n      <td>[0.0, 0.0, 0.0, 0.0]</td>\n      <td>[1.0, 0.848, 0.811, 0.813]</td>\n      <td>[0.0, 0.152, 0.189, 0.187]</td>\n      <td>[0.0, 0.3612, 0.4215, 0.5362]</td>\n      <td>[0.3612, 0.4215, 0.5362]</td>\n      <td>0.439633</td>\n    </tr>\n    <tr>\n      <th>...</th>\n      <td>...</td>\n      <td>...</td>\n      <td>...</td>\n      <td>...</td>\n      <td>...</td>\n      <td>...</td>\n      <td>...</td>\n      <td>...</td>\n      <td>...</td>\n      <td>...</td>\n      <td>...</td>\n      <td>...</td>\n      <td>...</td>\n      <td>...</td>\n      <td>...</td>\n      <td>...</td>\n      <td>...</td>\n      <td>...</td>\n    </tr>\n    <tr>\n      <th>1029</th>\n      <td>DoeyB</td>\n      <td>1.628950e+09</td>\n      <td>p48jqt</td>\n      <td>1.0</td>\n      <td>SELF-STORY</td>\n      <td>0.0</td>\n      <td>NaN</td>\n      <td>1.0</td>\n      <td>[Just thought id like to make a friendly remin...</td>\n      <td>The importance of multiple emails</td>\n      <td>https://www.reddit.com/r/CryptoCurrency/commen...</td>\n      <td>[The importance of multiple emails, Just thoug...</td>\n      <td>[0.0, 0.048, 0.0, 0.0, 0.0]</td>\n      <td>[0.615, 0.836, 1.0, 0.805, 0.885]</td>\n      <td>[0.385, 0.117, 0.0, 0.195, 0.115]</td>\n      <td>[0.3612, 0.8934, 0.0, 0.4404, 0.6652]</td>\n      <td>[0.3612, 0.8934, 0.4404, 0.6652]</td>\n      <td>0.590050</td>\n    </tr>\n    <tr>\n      <th>1030</th>\n      <td>kitisgreat</td>\n      <td>1.628950e+09</td>\n      <td>p48jqf</td>\n      <td>0.0</td>\n      <td>FINANCE</td>\n      <td>0.0</td>\n      <td>NaN</td>\n      <td>1.0</td>\n      <td>[]</td>\n      <td>Surprising Investor: Intel Now Owns Coinbase S...</td>\n      <td>https://cryptopotato.com/surprising-investor-i...</td>\n      <td>[Surprising Investor: Intel Now Owns Coinbase ...</td>\n      <td>[0.0, 0.0]</td>\n      <td>[0.538, 0.0]</td>\n      <td>[0.462, 0.0]</td>\n      <td>[0.5106, 0.0]</td>\n      <td>[0.5106]</td>\n      <td>0.510600</td>\n    </tr>\n    <tr>\n      <th>1031</th>\n      <td>Caralynethegreat</td>\n      <td>1.628950e+09</td>\n      <td>p48is3</td>\n      <td>0.0</td>\n      <td>FINANCE</td>\n      <td>0.0</td>\n      <td>NaN</td>\n      <td>1.0</td>\n      <td>[]</td>\n      <td>Nearly 30% of Canadians Are Cryptocurrency Inv...</td>\n      <td>https://cryptopotato.com/nearly-30-of-canadian...</td>\n      <td>[Nearly 30% of Canadians Are Cryptocurrency In...</td>\n      <td>[0.0, 0.0]</td>\n      <td>[1.0, 0.0]</td>\n      <td>[0.0, 0.0]</td>\n      <td>[0.0, 0.0]</td>\n      <td>[]</td>\n      <td>0.000000</td>\n    </tr>\n    <tr>\n      <th>1032</th>\n      <td>dalinara</td>\n      <td>1.628950e+09</td>\n      <td>p48ijg</td>\n      <td>0.0</td>\n      <td>🔴 UNRELIABLE SOURCE</td>\n      <td>2.0</td>\n      <td>NaN</td>\n      <td>1.0</td>\n      <td>[]</td>\n      <td>XRP chart triggers sell-off warning after pric...</td>\n      <td>https://cointelegraph.com/news/xrp-chart-trigg...</td>\n      <td>[XRP chart triggers sell-off warning after pri...</td>\n      <td>[0.167, 0.0]</td>\n      <td>[0.833, 0.0]</td>\n      <td>[0.0, 0.0]</td>\n      <td>[-0.34, 0.0]</td>\n      <td>[-0.34]</td>\n      <td>-0.340000</td>\n    </tr>\n    <tr>\n      <th>1033</th>\n      <td>pseudoHappyHippy</td>\n      <td>1.628950e+09</td>\n      <td>p48ijb</td>\n      <td>1.0</td>\n      <td>🌕 MOONS</td>\n      <td>1.0</td>\n      <td>NaN</td>\n      <td>1.0</td>\n      <td>[I often hear on here that 1:normalmoon: = 1:n...</td>\n      <td>1 MOON = 2 MOONs: A mathematical proof</td>\n      <td>https://www.reddit.com/r/CryptoCurrency/commen...</td>\n      <td>[1 MOON = 2 MOONs: A mathematical proof, I oft...</td>\n      <td>[0.0, 0.0, 0.0, 0.0, 0.0, 0.0]</td>\n      <td>[1.0, 1.0, 0.64, 0.685, 0.983, 0.0]</td>\n      <td>[0.0, 0.0, 0.36, 0.315, 0.017, 0.0]</td>\n      <td>[0.0, 0.0, 0.5423, 0.3182, 0.3612, 0.0]</td>\n      <td>[0.5423, 0.3182, 0.3612]</td>\n      <td>0.407233</td>\n    </tr>\n  </tbody>\n</table>\n<p>1034 rows × 18 columns</p>\n</div>"
     },
     "execution_count": 6,
     "metadata": {},
     "output_type": "execute_result"
    }
   ],
   "source": [
    "#VADER\n",
    "def rem_zero(arr):\n",
    "    return [i for i in arr if i != 0]\n",
    "\n",
    "texts['comp_mod'] = texts['compound'].apply(rem_zero)\n",
    "texts['comp_means'] = texts['comp_mod'].apply(np.mean).fillna(0)\n",
    "texts"
   ],
   "metadata": {
    "collapsed": false,
    "pycharm": {
     "name": "#%%\n"
    }
   }
  },
  {
   "cell_type": "code",
   "execution_count": 10,
   "metadata": {
    "pycharm": {
     "name": "#%%\n"
    }
   },
   "outputs": [
    {
     "data": {
      "text/plain": "                           comp_means  comp_means\nlink_flair_text                                  \n!= FORBES EDITORIAL          0.000000    0.000000\nADOPTION                     0.362885    0.265671\nCLIENT                       0.282895    0.276433\nCOMEDY                       0.124749    0.343097\nCONTEST                      0.685900         NaN\nCREATIVE                     0.325600         NaN\nCRITICAL-DISCUSSION          0.218820         NaN\nDEVELOPMENT                  0.186377    0.403501\nEDUCATIONAL                  0.122579    0.469986\nEXCHANGE                     0.233407    0.300634\nFINANCE                      0.216149    0.383757\nFOCUSED-DISCUSSION           0.277134    0.233952\nFUN                          0.370744    0.323864\nGENERAL-NEWS                 0.089043    0.360233\nLEGACY                       0.211705    0.291195\nMEDIA                        0.131506    0.361236\nMETA                         0.442451    0.156981\nMETRICS                      0.125716    0.233362\nMINING-STAKING               0.397211    0.193701\nMOONS 🌕                      0.305997    0.276782\nNEW-COIN                     0.306397    0.281588\nOFFICIAL                     0.138877         NaN\nPERSPECTIVE                  0.191918    0.250219\nPOLITICS                    -0.018859    0.377972\nPOLL 🗳️                      0.406100         NaN\nPRIVACY                     -0.027244    0.178917\nPerspective for Newcomers    0.255020         NaN\nRELEASE                      0.084756    0.200217\nSCALABILITY                  0.252856    0.307708\nSECURITY                     0.132447    0.320357\nSELF-STORY                   0.224271    0.310622\nSPECULATION                  0.253502    0.321648\nSTRATEGY                     0.269136    0.263210\nSUPPORT                      0.270794    0.326434\nTOOL                         0.059667         NaN\nTRADING                      0.244179    0.303625\nWARNING                     -0.196825    0.297186\n🌕 MOONS                      0.256568    0.260480\n🔴 UNRELIABLE SOURCE          0.101014    0.357187\n🟢 FINANCE                    0.136540    0.191805\n🟢 FUN                        0.000000         NaN\n🟢 MEDIA                      0.012567    0.609420\n🟢 MINING-STAKING             0.000000    0.000000\n🟢 POLITICS                   0.251367    0.718869\n🟢 RELEASE                    0.000000         NaN\n🟢 SECURITY                  -0.146200    0.206758\n🟢 TRADING                    0.142975    0.285950",
      "text/html": "<div>\n<style scoped>\n    .dataframe tbody tr th:only-of-type {\n        vertical-align: middle;\n    }\n\n    .dataframe tbody tr th {\n        vertical-align: top;\n    }\n\n    .dataframe thead th {\n        text-align: right;\n    }\n</style>\n<table border=\"1\" class=\"dataframe\">\n  <thead>\n    <tr style=\"text-align: right;\">\n      <th></th>\n      <th>comp_means</th>\n      <th>comp_means</th>\n    </tr>\n    <tr>\n      <th>link_flair_text</th>\n      <th></th>\n      <th></th>\n    </tr>\n  </thead>\n  <tbody>\n    <tr>\n      <th>!= FORBES EDITORIAL</th>\n      <td>0.000000</td>\n      <td>0.000000</td>\n    </tr>\n    <tr>\n      <th>ADOPTION</th>\n      <td>0.362885</td>\n      <td>0.265671</td>\n    </tr>\n    <tr>\n      <th>CLIENT</th>\n      <td>0.282895</td>\n      <td>0.276433</td>\n    </tr>\n    <tr>\n      <th>COMEDY</th>\n      <td>0.124749</td>\n      <td>0.343097</td>\n    </tr>\n    <tr>\n      <th>CONTEST</th>\n      <td>0.685900</td>\n      <td>NaN</td>\n    </tr>\n    <tr>\n      <th>CREATIVE</th>\n      <td>0.325600</td>\n      <td>NaN</td>\n    </tr>\n    <tr>\n      <th>CRITICAL-DISCUSSION</th>\n      <td>0.218820</td>\n      <td>NaN</td>\n    </tr>\n    <tr>\n      <th>DEVELOPMENT</th>\n      <td>0.186377</td>\n      <td>0.403501</td>\n    </tr>\n    <tr>\n      <th>EDUCATIONAL</th>\n      <td>0.122579</td>\n      <td>0.469986</td>\n    </tr>\n    <tr>\n      <th>EXCHANGE</th>\n      <td>0.233407</td>\n      <td>0.300634</td>\n    </tr>\n    <tr>\n      <th>FINANCE</th>\n      <td>0.216149</td>\n      <td>0.383757</td>\n    </tr>\n    <tr>\n      <th>FOCUSED-DISCUSSION</th>\n      <td>0.277134</td>\n      <td>0.233952</td>\n    </tr>\n    <tr>\n      <th>FUN</th>\n      <td>0.370744</td>\n      <td>0.323864</td>\n    </tr>\n    <tr>\n      <th>GENERAL-NEWS</th>\n      <td>0.089043</td>\n      <td>0.360233</td>\n    </tr>\n    <tr>\n      <th>LEGACY</th>\n      <td>0.211705</td>\n      <td>0.291195</td>\n    </tr>\n    <tr>\n      <th>MEDIA</th>\n      <td>0.131506</td>\n      <td>0.361236</td>\n    </tr>\n    <tr>\n      <th>META</th>\n      <td>0.442451</td>\n      <td>0.156981</td>\n    </tr>\n    <tr>\n      <th>METRICS</th>\n      <td>0.125716</td>\n      <td>0.233362</td>\n    </tr>\n    <tr>\n      <th>MINING-STAKING</th>\n      <td>0.397211</td>\n      <td>0.193701</td>\n    </tr>\n    <tr>\n      <th>MOONS 🌕</th>\n      <td>0.305997</td>\n      <td>0.276782</td>\n    </tr>\n    <tr>\n      <th>NEW-COIN</th>\n      <td>0.306397</td>\n      <td>0.281588</td>\n    </tr>\n    <tr>\n      <th>OFFICIAL</th>\n      <td>0.138877</td>\n      <td>NaN</td>\n    </tr>\n    <tr>\n      <th>PERSPECTIVE</th>\n      <td>0.191918</td>\n      <td>0.250219</td>\n    </tr>\n    <tr>\n      <th>POLITICS</th>\n      <td>-0.018859</td>\n      <td>0.377972</td>\n    </tr>\n    <tr>\n      <th>POLL 🗳️</th>\n      <td>0.406100</td>\n      <td>NaN</td>\n    </tr>\n    <tr>\n      <th>PRIVACY</th>\n      <td>-0.027244</td>\n      <td>0.178917</td>\n    </tr>\n    <tr>\n      <th>Perspective for Newcomers</th>\n      <td>0.255020</td>\n      <td>NaN</td>\n    </tr>\n    <tr>\n      <th>RELEASE</th>\n      <td>0.084756</td>\n      <td>0.200217</td>\n    </tr>\n    <tr>\n      <th>SCALABILITY</th>\n      <td>0.252856</td>\n      <td>0.307708</td>\n    </tr>\n    <tr>\n      <th>SECURITY</th>\n      <td>0.132447</td>\n      <td>0.320357</td>\n    </tr>\n    <tr>\n      <th>SELF-STORY</th>\n      <td>0.224271</td>\n      <td>0.310622</td>\n    </tr>\n    <tr>\n      <th>SPECULATION</th>\n      <td>0.253502</td>\n      <td>0.321648</td>\n    </tr>\n    <tr>\n      <th>STRATEGY</th>\n      <td>0.269136</td>\n      <td>0.263210</td>\n    </tr>\n    <tr>\n      <th>SUPPORT</th>\n      <td>0.270794</td>\n      <td>0.326434</td>\n    </tr>\n    <tr>\n      <th>TOOL</th>\n      <td>0.059667</td>\n      <td>NaN</td>\n    </tr>\n    <tr>\n      <th>TRADING</th>\n      <td>0.244179</td>\n      <td>0.303625</td>\n    </tr>\n    <tr>\n      <th>WARNING</th>\n      <td>-0.196825</td>\n      <td>0.297186</td>\n    </tr>\n    <tr>\n      <th>🌕 MOONS</th>\n      <td>0.256568</td>\n      <td>0.260480</td>\n    </tr>\n    <tr>\n      <th>🔴 UNRELIABLE SOURCE</th>\n      <td>0.101014</td>\n      <td>0.357187</td>\n    </tr>\n    <tr>\n      <th>🟢 FINANCE</th>\n      <td>0.136540</td>\n      <td>0.191805</td>\n    </tr>\n    <tr>\n      <th>🟢 FUN</th>\n      <td>0.000000</td>\n      <td>NaN</td>\n    </tr>\n    <tr>\n      <th>🟢 MEDIA</th>\n      <td>0.012567</td>\n      <td>0.609420</td>\n    </tr>\n    <tr>\n      <th>🟢 MINING-STAKING</th>\n      <td>0.000000</td>\n      <td>0.000000</td>\n    </tr>\n    <tr>\n      <th>🟢 POLITICS</th>\n      <td>0.251367</td>\n      <td>0.718869</td>\n    </tr>\n    <tr>\n      <th>🟢 RELEASE</th>\n      <td>0.000000</td>\n      <td>NaN</td>\n    </tr>\n    <tr>\n      <th>🟢 SECURITY</th>\n      <td>-0.146200</td>\n      <td>0.206758</td>\n    </tr>\n    <tr>\n      <th>🟢 TRADING</th>\n      <td>0.142975</td>\n      <td>0.285950</td>\n    </tr>\n  </tbody>\n</table>\n</div>"
     },
     "execution_count": 10,
     "metadata": {},
     "output_type": "execute_result"
    }
   ],
   "source": [
    "cats = texts[['link_flair_text','neg','neu','pos','comp_means']]\n",
    "cats = pd.concat([cats.groupby(['link_flair_text']).mean(), cats.groupby(['link_flair_text']).std() ], axis=1)\n",
    "cats"
   ]
  },
  {
   "cell_type": "code",
   "execution_count": 8,
   "metadata": {},
   "outputs": [
    {
     "data": {
      "text/plain": "              comp_means  comp_means\nnum_comments                        \n0.0             0.233692    0.300705\n1.0             0.182170    0.337642\n2.0             0.170380    0.426930\n3.0             0.182986    0.139365\n16.0            0.138877         NaN",
      "text/html": "<div>\n<style scoped>\n    .dataframe tbody tr th:only-of-type {\n        vertical-align: middle;\n    }\n\n    .dataframe tbody tr th {\n        vertical-align: top;\n    }\n\n    .dataframe thead th {\n        text-align: right;\n    }\n</style>\n<table border=\"1\" class=\"dataframe\">\n  <thead>\n    <tr style=\"text-align: right;\">\n      <th></th>\n      <th>comp_means</th>\n      <th>comp_means</th>\n    </tr>\n    <tr>\n      <th>num_comments</th>\n      <th></th>\n      <th></th>\n    </tr>\n  </thead>\n  <tbody>\n    <tr>\n      <th>0.0</th>\n      <td>0.233692</td>\n      <td>0.300705</td>\n    </tr>\n    <tr>\n      <th>1.0</th>\n      <td>0.182170</td>\n      <td>0.337642</td>\n    </tr>\n    <tr>\n      <th>2.0</th>\n      <td>0.170380</td>\n      <td>0.426930</td>\n    </tr>\n    <tr>\n      <th>3.0</th>\n      <td>0.182986</td>\n      <td>0.139365</td>\n    </tr>\n    <tr>\n      <th>16.0</th>\n      <td>0.138877</td>\n      <td>NaN</td>\n    </tr>\n  </tbody>\n</table>\n</div>"
     },
     "execution_count": 8,
     "metadata": {},
     "output_type": "execute_result"
    }
   ],
   "source": [
    "comms = texts[['num_comments','neg','neu','pos','comp_means']]\n",
    "comms = pd.concat([comms.groupby(['num_comments']).mean(), comms.groupby(['num_comments']).std()], axis=1)\n",
    "comms"
   ]
  },
  {
   "cell_type": "code",
   "execution_count": 9,
   "outputs": [
    {
     "data": {
      "text/plain": "               comp_means  comp_means\ndata                                 \n(0, 20]          0.085011    0.248096\n(20, 50]         0.018548    0.309612\n(50, 75]         0.100315    0.314109\n(75, 100]        0.115300    0.380758\n(100, 150]       0.201670    0.378518\n(150, 200]       0.492893    0.310886\n(200, 300]       0.217122    0.375765\n(300, 500]       0.280218    0.334532\n(500, 1000]      0.249133    0.280075\n(1000, 2000]     0.224666    0.247960\n(2000, 3000]     0.228572    0.157265\n(3000, 10000]    0.174902    0.201653",
      "text/html": "<div>\n<style scoped>\n    .dataframe tbody tr th:only-of-type {\n        vertical-align: middle;\n    }\n\n    .dataframe tbody tr th {\n        vertical-align: top;\n    }\n\n    .dataframe thead th {\n        text-align: right;\n    }\n</style>\n<table border=\"1\" class=\"dataframe\">\n  <thead>\n    <tr style=\"text-align: right;\">\n      <th></th>\n      <th>comp_means</th>\n      <th>comp_means</th>\n    </tr>\n    <tr>\n      <th>data</th>\n      <th></th>\n      <th></th>\n    </tr>\n  </thead>\n  <tbody>\n    <tr>\n      <th>(0, 20]</th>\n      <td>0.085011</td>\n      <td>0.248096</td>\n    </tr>\n    <tr>\n      <th>(20, 50]</th>\n      <td>0.018548</td>\n      <td>0.309612</td>\n    </tr>\n    <tr>\n      <th>(50, 75]</th>\n      <td>0.100315</td>\n      <td>0.314109</td>\n    </tr>\n    <tr>\n      <th>(75, 100]</th>\n      <td>0.115300</td>\n      <td>0.380758</td>\n    </tr>\n    <tr>\n      <th>(100, 150]</th>\n      <td>0.201670</td>\n      <td>0.378518</td>\n    </tr>\n    <tr>\n      <th>(150, 200]</th>\n      <td>0.492893</td>\n      <td>0.310886</td>\n    </tr>\n    <tr>\n      <th>(200, 300]</th>\n      <td>0.217122</td>\n      <td>0.375765</td>\n    </tr>\n    <tr>\n      <th>(300, 500]</th>\n      <td>0.280218</td>\n      <td>0.334532</td>\n    </tr>\n    <tr>\n      <th>(500, 1000]</th>\n      <td>0.249133</td>\n      <td>0.280075</td>\n    </tr>\n    <tr>\n      <th>(1000, 2000]</th>\n      <td>0.224666</td>\n      <td>0.247960</td>\n    </tr>\n    <tr>\n      <th>(2000, 3000]</th>\n      <td>0.228572</td>\n      <td>0.157265</td>\n    </tr>\n    <tr>\n      <th>(3000, 10000]</th>\n      <td>0.174902</td>\n      <td>0.201653</td>\n    </tr>\n  </tbody>\n</table>\n</div>"
     },
     "execution_count": 9,
     "metadata": {},
     "output_type": "execute_result"
    }
   ],
   "source": [
    "datlen = texts['data'].apply('.'.join).str.len()\n",
    "bins = pd.IntervalIndex.from_tuples([(0, 20), (20, 50), (50, 75), (75, 100), (100, 150), (150, 200), (200, 300), (300, 500), (500, 1000), (1000, 2000), (2000, 3000), (3000, 10000)])\n",
    "datlen = pd.cut(datlen, bins)\n",
    "lens = pd.concat([texts[['neg','neu','pos','comp_means']], datlen], axis=1)\n",
    "#lens\n",
    "comms = pd.concat([lens.groupby(['data']).mean(), lens.groupby(['data']).std()], axis=1)\n",
    "comms"
   ],
   "metadata": {
    "collapsed": false,
    "pycharm": {
     "name": "#%%\n"
    }
   }
  },
  {
   "cell_type": "code",
   "execution_count": null,
   "outputs": [],
   "source": [
    "#"
   ],
   "metadata": {
    "collapsed": false,
    "pycharm": {
     "name": "#%%\n"
    }
   }
  }
 ],
 "metadata": {
  "kernelspec": {
   "display_name": "Python 3",
   "language": "python",
   "name": "python3"
  },
  "language_info": {
   "codemirror_mode": {
    "name": "ipython",
    "version": 3
   },
   "file_extension": ".py",
   "mimetype": "text/x-python",
   "name": "python",
   "nbconvert_exporter": "python",
   "pygments_lexer": "ipython3",
   "version": "3.9.6"
  }
 },
 "nbformat": 4,
 "nbformat_minor": 4
}