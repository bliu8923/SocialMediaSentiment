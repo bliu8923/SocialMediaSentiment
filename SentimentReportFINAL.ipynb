{
 "cells": [
  {
   "cell_type": "markdown",
   "metadata": {
    "collapsed": true,
    "pycharm": {
     "name": "#%% md\n"
    }
   },
   "source": [
    "## Reddit Sentiment Model\n",
    "\n",
    "A look into the different data, models, and results I found.\n",
    "\n",
    "Notable Findings:\n",
    "- There is NO correlation between reddit subreddits and the prices of cryptocurrencies. Even when sorted by the coin itself, there is no correlation found by Pearson's R, Kendall Tau, or Spearman rank. This means another factor is most likely the reason for price fluctuations that we see.\n",
    "- I also found that a lot of model calculations into positivity or negativity of certain statements were grossly incorrect. This proved to be much more true for a lot of 'investment lingo', such as \"to the moon\", \"HODL\", or \"FOMO\". This meant that a lot of statements that should have been extremely positive or negative ended up more neutral since the models trained had decided to make these words more neutral compared to pos or neg, meaning that a custom model might be the only method of making progress here.\n",
    "- I reached out to 5 redditors who claim to do sentiment analysis on certain subreddits concerning investments (r/wallstreetbets, r/CryptoCurrency, r/Bitcoin) and 4 reached out back. Their conclusions ultimately mirrored mine.\n",
    "\n",
    "Let's begin."
   ]
  },
  {
   "cell_type": "code",
   "execution_count": 1,
   "outputs": [],
   "source": [
    "#To start, I import the libraries I need throughout the notebook (sentiment model imports come later).\n",
    "import requests as re\n",
    "import pandas as pd\n",
    "import numpy as np\n",
    "import os\n",
    "import sys\n",
    "import time\n",
    "import yfinance as yf\n",
    "import matplotlib.pyplot as plt\n",
    "from ast import literal_eval"
   ],
   "metadata": {
    "collapsed": false,
    "pycharm": {
     "name": "#%%\n"
    }
   }
  },
  {
   "cell_type": "code",
   "execution_count": 16,
   "outputs": [
    {
     "data": {
      "text/plain": "        Unnamed: 0              author   created_utc      id  is_self  \\\n0                0  Harleyblackpanther  1.631018e+09  pjm9or      0.0   \n1                1           Goatblort  1.631018e+09  pjm9k0      0.0   \n2                2          ssyamchasa  1.631018e+09  pjm93g      0.0   \n3                3  Harleyblackpanther  1.631018e+09  pjm8ox      0.0   \n4                4   ITmancoderwannabe  1.631018e+09  pjm7wq      0.0   \n...            ...                 ...           ...     ...      ...   \n272468      272468             ki777iz  1.609455e+09  knzz90      0.0   \n272469      272469           HashMoose  1.609455e+09  knzwiq      0.0   \n272470      272470           clydedyed  1.609455e+09  knzwh9      0.0   \n272471      272471         Crypto-Hero  1.609455e+09  knzvzd      1.0   \n272472      272472             3168074  1.609455e+09  knzucl      0.0   \n\n       link_flair_text  num_comments  score  \\\n0             NEW-COIN           0.0    1.0   \n1       MINING-STAKING           1.0    1.0   \n2                MEDIA           0.0    1.0   \n3             NEW-COIN           1.0    1.0   \n4                  NaN           0.0    1.0   \n...                ...           ...    ...   \n272468    GENERAL-NEWS           0.0    1.0   \n272469         TRADING           7.0    1.0   \n272470          COMEDY           2.0    1.0   \n272471         FINANCE           7.0    1.0   \n272472    GENERAL-NEWS           0.0    1.0   \n\n                                                 selftext  \\\n0                                                    ['']   \n1                                                    ['']   \n2                                                    ['']   \n3                                                    ['']   \n4                                                    ['']   \n...                                                   ...   \n272468                                               ['']   \n272469                                               ['']   \n272470                                               ['']   \n272471  ['REMINDER: Cash out on your holding on PayPal...   \n272472                                               ['']   \n\n                                                    title  \\\n0                                     Julio Iglesias Coin   \n1                       Crypto mining explodes in Vietnam   \n2       Brokoli: Green Vision With Flawless Crypto Exe...   \n3       Julioiglesias coin. https://bitclout.com/posts...   \n4       Cryptocurrency Prices Today on September 7: So...   \n...                                                   ...   \n272468  Darknet Marketplace Has Stopped Supporting Pay...   \n272469  Representatives ask Mnuchin to extend comment ...   \n272470                    wtf is wrong with these cultist   \n272471  REMINDER: Cash out on your holding on PayPal f...   \n272472                                          Thoughts?   \n\n                                                      url  \\\n0       https://bitclout.com/posts/25c09a3c19e37384385...   \n1       https://coinmarketcap.com/headlines/news/Crypt...   \n2       https://m.investing.com/news/cryptocurrency-ne...   \n3                     https://i.redd.it/la52cqfat2m71.jpg   \n4       https://www.moneycontrol.com/news/business/cry...   \n...                                                   ...   \n272468  https://thecryptobasic.com/2020/12/31/darknet-...   \n272469  https://www.theblockcrypto.com/linked/89783/re...   \n272470                    https://i.imgur.com/Wd8UqFk.png   \n272471  https://www.reddit.com/r/CryptoCurrency/commen...   \n272472  https://andrecronje.medium.com/tokenized-yield...   \n\n                                                     data  \n0                                   [Julio Iglesias Coin]  \n1                     [Crypto mining explodes in Vietnam]  \n2       [Brokoli: Green Vision With Flawless Crypto Ex...  \n3       [Julioiglesias coin. https://bitclout.com/post...  \n4       [Cryptocurrency Prices Today on September 7: S...  \n...                                                   ...  \n272468  [Darknet Marketplace Has Stopped Supporting Pa...  \n272469  [Representatives ask Mnuchin to extend comment...  \n272470                  [wtf is wrong with these cultist]  \n272471  [REMINDER: Cash out on your holding on PayPal ...  \n272472                                        [Thoughts?]  \n\n[272473 rows x 12 columns]",
      "text/html": "<div>\n<style scoped>\n    .dataframe tbody tr th:only-of-type {\n        vertical-align: middle;\n    }\n\n    .dataframe tbody tr th {\n        vertical-align: top;\n    }\n\n    .dataframe thead th {\n        text-align: right;\n    }\n</style>\n<table border=\"1\" class=\"dataframe\">\n  <thead>\n    <tr style=\"text-align: right;\">\n      <th></th>\n      <th>Unnamed: 0</th>\n      <th>author</th>\n      <th>created_utc</th>\n      <th>id</th>\n      <th>is_self</th>\n      <th>link_flair_text</th>\n      <th>num_comments</th>\n      <th>score</th>\n      <th>selftext</th>\n      <th>title</th>\n      <th>url</th>\n      <th>data</th>\n    </tr>\n  </thead>\n  <tbody>\n    <tr>\n      <th>0</th>\n      <td>0</td>\n      <td>Harleyblackpanther</td>\n      <td>1.631018e+09</td>\n      <td>pjm9or</td>\n      <td>0.0</td>\n      <td>NEW-COIN</td>\n      <td>0.0</td>\n      <td>1.0</td>\n      <td>['']</td>\n      <td>Julio Iglesias Coin</td>\n      <td>https://bitclout.com/posts/25c09a3c19e37384385...</td>\n      <td>[Julio Iglesias Coin]</td>\n    </tr>\n    <tr>\n      <th>1</th>\n      <td>1</td>\n      <td>Goatblort</td>\n      <td>1.631018e+09</td>\n      <td>pjm9k0</td>\n      <td>0.0</td>\n      <td>MINING-STAKING</td>\n      <td>1.0</td>\n      <td>1.0</td>\n      <td>['']</td>\n      <td>Crypto mining explodes in Vietnam</td>\n      <td>https://coinmarketcap.com/headlines/news/Crypt...</td>\n      <td>[Crypto mining explodes in Vietnam]</td>\n    </tr>\n    <tr>\n      <th>2</th>\n      <td>2</td>\n      <td>ssyamchasa</td>\n      <td>1.631018e+09</td>\n      <td>pjm93g</td>\n      <td>0.0</td>\n      <td>MEDIA</td>\n      <td>0.0</td>\n      <td>1.0</td>\n      <td>['']</td>\n      <td>Brokoli: Green Vision With Flawless Crypto Exe...</td>\n      <td>https://m.investing.com/news/cryptocurrency-ne...</td>\n      <td>[Brokoli: Green Vision With Flawless Crypto Ex...</td>\n    </tr>\n    <tr>\n      <th>3</th>\n      <td>3</td>\n      <td>Harleyblackpanther</td>\n      <td>1.631018e+09</td>\n      <td>pjm8ox</td>\n      <td>0.0</td>\n      <td>NEW-COIN</td>\n      <td>1.0</td>\n      <td>1.0</td>\n      <td>['']</td>\n      <td>Julioiglesias coin. https://bitclout.com/posts...</td>\n      <td>https://i.redd.it/la52cqfat2m71.jpg</td>\n      <td>[Julioiglesias coin. https://bitclout.com/post...</td>\n    </tr>\n    <tr>\n      <th>4</th>\n      <td>4</td>\n      <td>ITmancoderwannabe</td>\n      <td>1.631018e+09</td>\n      <td>pjm7wq</td>\n      <td>0.0</td>\n      <td>NaN</td>\n      <td>0.0</td>\n      <td>1.0</td>\n      <td>['']</td>\n      <td>Cryptocurrency Prices Today on September 7: So...</td>\n      <td>https://www.moneycontrol.com/news/business/cry...</td>\n      <td>[Cryptocurrency Prices Today on September 7: S...</td>\n    </tr>\n    <tr>\n      <th>...</th>\n      <td>...</td>\n      <td>...</td>\n      <td>...</td>\n      <td>...</td>\n      <td>...</td>\n      <td>...</td>\n      <td>...</td>\n      <td>...</td>\n      <td>...</td>\n      <td>...</td>\n      <td>...</td>\n      <td>...</td>\n    </tr>\n    <tr>\n      <th>272468</th>\n      <td>272468</td>\n      <td>ki777iz</td>\n      <td>1.609455e+09</td>\n      <td>knzz90</td>\n      <td>0.0</td>\n      <td>GENERAL-NEWS</td>\n      <td>0.0</td>\n      <td>1.0</td>\n      <td>['']</td>\n      <td>Darknet Marketplace Has Stopped Supporting Pay...</td>\n      <td>https://thecryptobasic.com/2020/12/31/darknet-...</td>\n      <td>[Darknet Marketplace Has Stopped Supporting Pa...</td>\n    </tr>\n    <tr>\n      <th>272469</th>\n      <td>272469</td>\n      <td>HashMoose</td>\n      <td>1.609455e+09</td>\n      <td>knzwiq</td>\n      <td>0.0</td>\n      <td>TRADING</td>\n      <td>7.0</td>\n      <td>1.0</td>\n      <td>['']</td>\n      <td>Representatives ask Mnuchin to extend comment ...</td>\n      <td>https://www.theblockcrypto.com/linked/89783/re...</td>\n      <td>[Representatives ask Mnuchin to extend comment...</td>\n    </tr>\n    <tr>\n      <th>272470</th>\n      <td>272470</td>\n      <td>clydedyed</td>\n      <td>1.609455e+09</td>\n      <td>knzwh9</td>\n      <td>0.0</td>\n      <td>COMEDY</td>\n      <td>2.0</td>\n      <td>1.0</td>\n      <td>['']</td>\n      <td>wtf is wrong with these cultist</td>\n      <td>https://i.imgur.com/Wd8UqFk.png</td>\n      <td>[wtf is wrong with these cultist]</td>\n    </tr>\n    <tr>\n      <th>272471</th>\n      <td>272471</td>\n      <td>Crypto-Hero</td>\n      <td>1.609455e+09</td>\n      <td>knzvzd</td>\n      <td>1.0</td>\n      <td>FINANCE</td>\n      <td>7.0</td>\n      <td>1.0</td>\n      <td>['REMINDER: Cash out on your holding on PayPal...</td>\n      <td>REMINDER: Cash out on your holding on PayPal f...</td>\n      <td>https://www.reddit.com/r/CryptoCurrency/commen...</td>\n      <td>[REMINDER: Cash out on your holding on PayPal ...</td>\n    </tr>\n    <tr>\n      <th>272472</th>\n      <td>272472</td>\n      <td>3168074</td>\n      <td>1.609455e+09</td>\n      <td>knzucl</td>\n      <td>0.0</td>\n      <td>GENERAL-NEWS</td>\n      <td>0.0</td>\n      <td>1.0</td>\n      <td>['']</td>\n      <td>Thoughts?</td>\n      <td>https://andrecronje.medium.com/tokenized-yield...</td>\n      <td>[Thoughts?]</td>\n    </tr>\n  </tbody>\n</table>\n<p>272473 rows × 12 columns</p>\n</div>"
     },
     "execution_count": 16,
     "metadata": {},
     "output_type": "execute_result"
    }
   ],
   "source": [
    "#This reads in specifically from r/CryptoCurrency, this is the first dataset that I was able to play with. It pulls all data until the beginning of 2021.\n",
    "if os.path.isfile('rCC.csv'):\n",
    "    df = pd.read_csv('rCC.csv')\n",
    "    df['data'] = df['data'].apply(literal_eval)\n",
    "else:\n",
    "    #Use this function to combine the array of strings.\n",
    "    def flatten(input):\n",
    "        new_list = []\n",
    "        for i in input:\n",
    "            if not (isinstance(i, str)):\n",
    "                try:\n",
    "                    for j in i:\n",
    "                        if len(j) > 0:\n",
    "                            new_list.append(j.replace('\\n', ''))\n",
    "                except:\n",
    "                    print(i)\n",
    "                    print(input)\n",
    "                    raise NameError('NaN')\n",
    "            else:\n",
    "                new_list.append(i)\n",
    "        return new_list\n",
    "\n",
    "    df = pd.DataFrame()\n",
    "    #While the last fetched post's date is after the start of the new year\n",
    "    while len(df) == 0 or int(df.iloc[-1]['created_utc']) > 1609459200:\n",
    "        #If there is no data in the dataset\n",
    "        if len(df) == 0:\n",
    "            r = re.get('https://api.pushshift.io/reddit/search/submission/?subreddit=CryptoCurrency&size=100')\n",
    "        #If there is data, pull the last date as the reference for the next API call\n",
    "        else:\n",
    "            r = re.get('https://api.pushshift.io/reddit/search/submission/?subreddit=CryptoCurrency&size=100&before=' + str(int(df.iloc[-1]['created_utc'])))\n",
    "        #If successful, convert the data from JSON to a Dataframe, and clean the data into sentences -> column ['data']\n",
    "        if r.status_code == 200:\n",
    "            r = pd.json_normalize(r.json(), record_path='data')[['author', 'created_utc', 'id', 'is_self', 'link_flair_text', 'num_comments', 'score', 'selftext', 'title', 'url']]\n",
    "            r = r.where((len(r['selftext']) > 1) & (r['selftext'] != '[removed]') & (r['selftext'] != '[deleted]') & (r['selftext'].notna())).dropna(how='all')\n",
    "            r['selftext'] = r['selftext'].str.split('.')\n",
    "            r['data'] = r[['title', 'selftext']].values.tolist()\n",
    "            r['data'] = r['data'].apply(flatten)\n",
    "            df = pd.concat([df, r], ignore_index=True)\n",
    "        #Delay in case the API pull is too fast and gets rejected.\n",
    "        else:\n",
    "            time.sleep(15)\n",
    "    df.to_csv('rCC.csv')\n",
    "df"
   ],
   "metadata": {
    "collapsed": false,
    "pycharm": {
     "name": "#%%\n"
    }
   }
  },
  {
   "cell_type": "code",
   "execution_count": 17,
   "outputs": [
    {
     "name": "stdout",
     "output_type": "stream",
     "text": [
      "Now, since we want to focus on the actual sentiment analysis model, ignore this cell.\n"
     ]
    }
   ],
   "source": [
    "#Read in bitcoin prices from the beginning of 2021 on an hourly basis.\n",
    "#Now, since we want to focus on the actual sentiment analysis model, ignore this cell.\n",
    "'''\n",
    "if os.path.isfile('btcprice.csv'):\n",
    "    btcprices = pd.read_csv('btcprice.csv')\n",
    "else:\n",
    "    btcprices = yf.download(tickers=\"BTC-USD\", period=\"ytd\", interval=\"1h\")\n",
    "    pd.DataFrame(btcprices).to_csv('btcprice.csv')\n",
    "    pd.DataFrame(btcprices)\n",
    "'''\n",
    "print(\"Now, since we want to focus on the actual sentiment analysis model, ignore this cell.\")"
   ],
   "metadata": {
    "collapsed": false,
    "pycharm": {
     "name": "#%%\n"
    }
   }
  },
  {
   "cell_type": "code",
   "execution_count": 18,
   "outputs": [
    {
     "data": {
      "text/plain": "        Unnamed: 0              author   created_utc      id  is_self  \\\n0                0  Harleyblackpanther  1.631018e+09  pjm9or      0.0   \n1                1           Goatblort  1.631018e+09  pjm9k0      0.0   \n2                2          ssyamchasa  1.631018e+09  pjm93g      0.0   \n3                3  Harleyblackpanther  1.631018e+09  pjm8ox      0.0   \n4                4   ITmancoderwannabe  1.631018e+09  pjm7wq      0.0   \n...            ...                 ...           ...     ...      ...   \n272468      272468             ki777iz  1.609455e+09  knzz90      0.0   \n272469      272469           HashMoose  1.609455e+09  knzwiq      0.0   \n272470      272470           clydedyed  1.609455e+09  knzwh9      0.0   \n272471      272471         Crypto-Hero  1.609455e+09  knzvzd      1.0   \n272472      272472             3168074  1.609455e+09  knzucl      0.0   \n\n       link_flair_text  num_comments  score  \\\n0             NEW-COIN           0.0    1.0   \n1       MINING-STAKING           1.0    1.0   \n2                MEDIA           0.0    1.0   \n3             NEW-COIN           1.0    1.0   \n4                  NaN           0.0    1.0   \n...                ...           ...    ...   \n272468    GENERAL-NEWS           0.0    1.0   \n272469         TRADING           7.0    1.0   \n272470          COMEDY           2.0    1.0   \n272471         FINANCE           7.0    1.0   \n272472    GENERAL-NEWS           0.0    1.0   \n\n                                                 selftext  \\\n0                                                    ['']   \n1                                                    ['']   \n2                                                    ['']   \n3                                                    ['']   \n4                                                    ['']   \n...                                                   ...   \n272468                                               ['']   \n272469                                               ['']   \n272470                                               ['']   \n272471  ['REMINDER: Cash out on your holding on PayPal...   \n272472                                               ['']   \n\n                                                    title  \\\n0                                     Julio Iglesias Coin   \n1                       Crypto mining explodes in Vietnam   \n2       Brokoli: Green Vision With Flawless Crypto Exe...   \n3       Julioiglesias coin. https://bitclout.com/posts...   \n4       Cryptocurrency Prices Today on September 7: So...   \n...                                                   ...   \n272468  Darknet Marketplace Has Stopped Supporting Pay...   \n272469  Representatives ask Mnuchin to extend comment ...   \n272470                    wtf is wrong with these cultist   \n272471  REMINDER: Cash out on your holding on PayPal f...   \n272472                                          Thoughts?   \n\n                                                      url  \\\n0       https://bitclout.com/posts/25c09a3c19e37384385...   \n1       https://coinmarketcap.com/headlines/news/Crypt...   \n2       https://m.investing.com/news/cryptocurrency-ne...   \n3                     https://i.redd.it/la52cqfat2m71.jpg   \n4       https://www.moneycontrol.com/news/business/cry...   \n...                                                   ...   \n272468  https://thecryptobasic.com/2020/12/31/darknet-...   \n272469  https://www.theblockcrypto.com/linked/89783/re...   \n272470                    https://i.imgur.com/Wd8UqFk.png   \n272471  https://www.reddit.com/r/CryptoCurrency/commen...   \n272472  https://andrecronje.medium.com/tokenized-yield...   \n\n                                                     data  \\\n0                                   [Julio Iglesias Coin]   \n1                     [Crypto mining explodes in Vietnam]   \n2       [Brokoli: Green Vision With Flawless Crypto Ex...   \n3       [Julioiglesias coin. https://bitclout.com/post...   \n4       [Cryptocurrency Prices Today on September 7: S...   \n...                                                   ...   \n272468  [Darknet Marketplace Has Stopped Supporting Pa...   \n272469  [Representatives ask Mnuchin to extend comment...   \n272470                  [wtf is wrong with these cultist]   \n272471  [REMINDER: Cash out on your holding on PayPal ...   \n272472                                        [Thoughts?]   \n\n                                                  rawdata  \n0                                     Julio Iglesias Coin  \n1                       Crypto mining explodes in Vietnam  \n2       Brokoli: Green Vision With Flawless Crypto Exe...  \n3       Julioiglesias coin. https://bitclout.com/posts...  \n4       Cryptocurrency Prices Today on September 7: So...  \n...                                                   ...  \n272468  Darknet Marketplace Has Stopped Supporting Pay...  \n272469  Representatives ask Mnuchin to extend comment ...  \n272470                    wtf is wrong with these cultist  \n272471  REMINDER: Cash out on your holding on PayPal f...  \n272472                                          Thoughts?  \n\n[272473 rows x 13 columns]",
      "text/html": "<div>\n<style scoped>\n    .dataframe tbody tr th:only-of-type {\n        vertical-align: middle;\n    }\n\n    .dataframe tbody tr th {\n        vertical-align: top;\n    }\n\n    .dataframe thead th {\n        text-align: right;\n    }\n</style>\n<table border=\"1\" class=\"dataframe\">\n  <thead>\n    <tr style=\"text-align: right;\">\n      <th></th>\n      <th>Unnamed: 0</th>\n      <th>author</th>\n      <th>created_utc</th>\n      <th>id</th>\n      <th>is_self</th>\n      <th>link_flair_text</th>\n      <th>num_comments</th>\n      <th>score</th>\n      <th>selftext</th>\n      <th>title</th>\n      <th>url</th>\n      <th>data</th>\n      <th>rawdata</th>\n    </tr>\n  </thead>\n  <tbody>\n    <tr>\n      <th>0</th>\n      <td>0</td>\n      <td>Harleyblackpanther</td>\n      <td>1.631018e+09</td>\n      <td>pjm9or</td>\n      <td>0.0</td>\n      <td>NEW-COIN</td>\n      <td>0.0</td>\n      <td>1.0</td>\n      <td>['']</td>\n      <td>Julio Iglesias Coin</td>\n      <td>https://bitclout.com/posts/25c09a3c19e37384385...</td>\n      <td>[Julio Iglesias Coin]</td>\n      <td>Julio Iglesias Coin</td>\n    </tr>\n    <tr>\n      <th>1</th>\n      <td>1</td>\n      <td>Goatblort</td>\n      <td>1.631018e+09</td>\n      <td>pjm9k0</td>\n      <td>0.0</td>\n      <td>MINING-STAKING</td>\n      <td>1.0</td>\n      <td>1.0</td>\n      <td>['']</td>\n      <td>Crypto mining explodes in Vietnam</td>\n      <td>https://coinmarketcap.com/headlines/news/Crypt...</td>\n      <td>[Crypto mining explodes in Vietnam]</td>\n      <td>Crypto mining explodes in Vietnam</td>\n    </tr>\n    <tr>\n      <th>2</th>\n      <td>2</td>\n      <td>ssyamchasa</td>\n      <td>1.631018e+09</td>\n      <td>pjm93g</td>\n      <td>0.0</td>\n      <td>MEDIA</td>\n      <td>0.0</td>\n      <td>1.0</td>\n      <td>['']</td>\n      <td>Brokoli: Green Vision With Flawless Crypto Exe...</td>\n      <td>https://m.investing.com/news/cryptocurrency-ne...</td>\n      <td>[Brokoli: Green Vision With Flawless Crypto Ex...</td>\n      <td>Brokoli: Green Vision With Flawless Crypto Exe...</td>\n    </tr>\n    <tr>\n      <th>3</th>\n      <td>3</td>\n      <td>Harleyblackpanther</td>\n      <td>1.631018e+09</td>\n      <td>pjm8ox</td>\n      <td>0.0</td>\n      <td>NEW-COIN</td>\n      <td>1.0</td>\n      <td>1.0</td>\n      <td>['']</td>\n      <td>Julioiglesias coin. https://bitclout.com/posts...</td>\n      <td>https://i.redd.it/la52cqfat2m71.jpg</td>\n      <td>[Julioiglesias coin. https://bitclout.com/post...</td>\n      <td>Julioiglesias coin. https://bitclout.com/posts...</td>\n    </tr>\n    <tr>\n      <th>4</th>\n      <td>4</td>\n      <td>ITmancoderwannabe</td>\n      <td>1.631018e+09</td>\n      <td>pjm7wq</td>\n      <td>0.0</td>\n      <td>NaN</td>\n      <td>0.0</td>\n      <td>1.0</td>\n      <td>['']</td>\n      <td>Cryptocurrency Prices Today on September 7: So...</td>\n      <td>https://www.moneycontrol.com/news/business/cry...</td>\n      <td>[Cryptocurrency Prices Today on September 7: S...</td>\n      <td>Cryptocurrency Prices Today on September 7: So...</td>\n    </tr>\n    <tr>\n      <th>...</th>\n      <td>...</td>\n      <td>...</td>\n      <td>...</td>\n      <td>...</td>\n      <td>...</td>\n      <td>...</td>\n      <td>...</td>\n      <td>...</td>\n      <td>...</td>\n      <td>...</td>\n      <td>...</td>\n      <td>...</td>\n      <td>...</td>\n    </tr>\n    <tr>\n      <th>272468</th>\n      <td>272468</td>\n      <td>ki777iz</td>\n      <td>1.609455e+09</td>\n      <td>knzz90</td>\n      <td>0.0</td>\n      <td>GENERAL-NEWS</td>\n      <td>0.0</td>\n      <td>1.0</td>\n      <td>['']</td>\n      <td>Darknet Marketplace Has Stopped Supporting Pay...</td>\n      <td>https://thecryptobasic.com/2020/12/31/darknet-...</td>\n      <td>[Darknet Marketplace Has Stopped Supporting Pa...</td>\n      <td>Darknet Marketplace Has Stopped Supporting Pay...</td>\n    </tr>\n    <tr>\n      <th>272469</th>\n      <td>272469</td>\n      <td>HashMoose</td>\n      <td>1.609455e+09</td>\n      <td>knzwiq</td>\n      <td>0.0</td>\n      <td>TRADING</td>\n      <td>7.0</td>\n      <td>1.0</td>\n      <td>['']</td>\n      <td>Representatives ask Mnuchin to extend comment ...</td>\n      <td>https://www.theblockcrypto.com/linked/89783/re...</td>\n      <td>[Representatives ask Mnuchin to extend comment...</td>\n      <td>Representatives ask Mnuchin to extend comment ...</td>\n    </tr>\n    <tr>\n      <th>272470</th>\n      <td>272470</td>\n      <td>clydedyed</td>\n      <td>1.609455e+09</td>\n      <td>knzwh9</td>\n      <td>0.0</td>\n      <td>COMEDY</td>\n      <td>2.0</td>\n      <td>1.0</td>\n      <td>['']</td>\n      <td>wtf is wrong with these cultist</td>\n      <td>https://i.imgur.com/Wd8UqFk.png</td>\n      <td>[wtf is wrong with these cultist]</td>\n      <td>wtf is wrong with these cultist</td>\n    </tr>\n    <tr>\n      <th>272471</th>\n      <td>272471</td>\n      <td>Crypto-Hero</td>\n      <td>1.609455e+09</td>\n      <td>knzvzd</td>\n      <td>1.0</td>\n      <td>FINANCE</td>\n      <td>7.0</td>\n      <td>1.0</td>\n      <td>['REMINDER: Cash out on your holding on PayPal...</td>\n      <td>REMINDER: Cash out on your holding on PayPal f...</td>\n      <td>https://www.reddit.com/r/CryptoCurrency/commen...</td>\n      <td>[REMINDER: Cash out on your holding on PayPal ...</td>\n      <td>REMINDER: Cash out on your holding on PayPal f...</td>\n    </tr>\n    <tr>\n      <th>272472</th>\n      <td>272472</td>\n      <td>3168074</td>\n      <td>1.609455e+09</td>\n      <td>knzucl</td>\n      <td>0.0</td>\n      <td>GENERAL-NEWS</td>\n      <td>0.0</td>\n      <td>1.0</td>\n      <td>['']</td>\n      <td>Thoughts?</td>\n      <td>https://andrecronje.medium.com/tokenized-yield...</td>\n      <td>[Thoughts?]</td>\n      <td>Thoughts?</td>\n    </tr>\n  </tbody>\n</table>\n<p>272473 rows × 13 columns</p>\n</div>"
     },
     "execution_count": 18,
     "metadata": {},
     "output_type": "execute_result"
    }
   ],
   "source": [
    "#Get the raw string data of the post.\n",
    "df['rawdata'] = df['data'].apply(\" \".join)\n",
    "df"
   ],
   "metadata": {
    "collapsed": false,
    "pycharm": {
     "name": "#%%\n"
    }
   }
  },
  {
   "cell_type": "code",
   "execution_count": 19,
   "outputs": [
    {
     "data": {
      "text/plain": "'\\nstemmer = SnowballStemmer(\"english\")\\nsamp[\\'stemmed\\'] = samp.rawdata.map(lambda x: \\' \\'.join([stemmer.stem(y) for y in x.split(\\' \\')]))\\nsamp.stemmed.head()\\n'"
     },
     "execution_count": 19,
     "metadata": {},
     "output_type": "execute_result"
    }
   ],
   "source": [
    "#Now we do TF-IDF on the rawdata column.\n",
    "from nltk.stem.snowball import SnowballStemmer\n",
    "from sklearn.feature_extraction.text import TfidfTransformer\n",
    "from sklearn.feature_extraction.text import CountVectorizer\n",
    "\n",
    "samp = df.copy()\n",
    "#Stem if necessary\n",
    "'''\n",
    "stemmer = SnowballStemmer(\"english\")\n",
    "samp['stemmed'] = samp.rawdata.map(lambda x: ' '.join([stemmer.stem(y) for y in x.split(' ')]))\n",
    "samp.stemmed.head()\n",
    "'''\n",
    "#A few problems I found with stemming were that the stems weren't actually real stems (such as -ing, -ed, etc.) but they ended up actually being just the last letter of words (so some become som, disaster became disas). This led to a lot of inaccuracies and confusion."
   ],
   "metadata": {
    "collapsed": false,
    "pycharm": {
     "name": "#%%\n"
    }
   }
  },
  {
   "cell_type": "code",
   "source": [
    "cvec = CountVectorizer(stop_words='english', min_df=1, max_df=.5, ngram_range=(1,2))\n",
    "cvec"
   ],
   "metadata": {
    "collapsed": false,
    "pycharm": {
     "name": "#%%\n"
    }
   },
   "execution_count": 6,
   "outputs": [
    {
     "data": {
      "text/plain": "CountVectorizer(max_df=0.5, ngram_range=(1, 2), stop_words='english')"
     },
     "execution_count": 6,
     "metadata": {},
     "output_type": "execute_result"
    }
   ]
  },
  {
   "cell_type": "code",
   "execution_count": 7,
   "outputs": [
    {
     "data": {
      "text/plain": "<272473x4278784 sparse matrix of type '<class 'numpy.float64'>'\n\twith 19236049 stored elements in Compressed Sparse Row format>"
     },
     "execution_count": 7,
     "metadata": {},
     "output_type": "execute_result"
    }
   ],
   "source": [
    "cvec.fit(samp.rawdata)\n",
    "cvec_counts = cvec.transform(samp.rawdata)\n",
    "tr = TfidfTransformer()\n",
    "transformed_weights = tr.fit_transform(cvec_counts)\n",
    "transformed_weights"
   ],
   "metadata": {
    "collapsed": false,
    "pycharm": {
     "name": "#%%\n"
    }
   }
  },
  {
   "cell_type": "code",
   "execution_count": 8,
   "outputs": [
    {
     "data": {
      "text/plain": "             term    weight\n1063877    crypto  0.017253\n588139    bitcoin  0.012398\n2155360      just  0.008529\n2276787      like  0.007628\n2814336    people  0.006237\n...           ...       ...\n3292351       run  0.001792\n3501528     smart  0.001787\n3868853     trade  0.001783\n2865196  platform  0.001769\n4237308       xrp  0.001766\n\n[150 rows x 2 columns]",
      "text/html": "<div>\n<style scoped>\n    .dataframe tbody tr th:only-of-type {\n        vertical-align: middle;\n    }\n\n    .dataframe tbody tr th {\n        vertical-align: top;\n    }\n\n    .dataframe thead th {\n        text-align: right;\n    }\n</style>\n<table border=\"1\" class=\"dataframe\">\n  <thead>\n    <tr style=\"text-align: right;\">\n      <th></th>\n      <th>term</th>\n      <th>weight</th>\n    </tr>\n  </thead>\n  <tbody>\n    <tr>\n      <th>1063877</th>\n      <td>crypto</td>\n      <td>0.017253</td>\n    </tr>\n    <tr>\n      <th>588139</th>\n      <td>bitcoin</td>\n      <td>0.012398</td>\n    </tr>\n    <tr>\n      <th>2155360</th>\n      <td>just</td>\n      <td>0.008529</td>\n    </tr>\n    <tr>\n      <th>2276787</th>\n      <td>like</td>\n      <td>0.007628</td>\n    </tr>\n    <tr>\n      <th>2814336</th>\n      <td>people</td>\n      <td>0.006237</td>\n    </tr>\n    <tr>\n      <th>...</th>\n      <td>...</td>\n      <td>...</td>\n    </tr>\n    <tr>\n      <th>3292351</th>\n      <td>run</td>\n      <td>0.001792</td>\n    </tr>\n    <tr>\n      <th>3501528</th>\n      <td>smart</td>\n      <td>0.001787</td>\n    </tr>\n    <tr>\n      <th>3868853</th>\n      <td>trade</td>\n      <td>0.001783</td>\n    </tr>\n    <tr>\n      <th>2865196</th>\n      <td>platform</td>\n      <td>0.001769</td>\n    </tr>\n    <tr>\n      <th>4237308</th>\n      <td>xrp</td>\n      <td>0.001766</td>\n    </tr>\n  </tbody>\n</table>\n<p>150 rows × 2 columns</p>\n</div>"
     },
     "execution_count": 8,
     "metadata": {},
     "output_type": "execute_result"
    }
   ],
   "source": [
    "weights = np.asarray(transformed_weights.mean(axis=0)).ravel().tolist()\n",
    "weights_df = pd.DataFrame({'term': cvec.get_feature_names(), 'weight': weights})\n",
    "weights_df.sort_values(by='weight', ascending=False).head(150)"
   ],
   "metadata": {
    "collapsed": false,
    "pycharm": {
     "name": "#%%\n"
    }
   }
  },
  {
   "cell_type": "code",
   "execution_count": 9,
   "outputs": [
    {
     "data": {
      "text/plain": "             term    weight   vader\n1063877    crypto  0.017253  0.0000\n588139    bitcoin  0.012398  0.0000\n2155360      just  0.008529  0.0000\n2276787      like  0.007628  0.3612\n2814336    people  0.006237  0.0000\n...           ...       ...     ...\n3292351       run  0.001792  0.0000\n3501528     smart  0.001787  0.4019\n3868853     trade  0.001783  0.0000\n2865196  platform  0.001769  0.0000\n4237308       xrp  0.001766  0.0000\n\n[150 rows x 3 columns]",
      "text/html": "<div>\n<style scoped>\n    .dataframe tbody tr th:only-of-type {\n        vertical-align: middle;\n    }\n\n    .dataframe tbody tr th {\n        vertical-align: top;\n    }\n\n    .dataframe thead th {\n        text-align: right;\n    }\n</style>\n<table border=\"1\" class=\"dataframe\">\n  <thead>\n    <tr style=\"text-align: right;\">\n      <th></th>\n      <th>term</th>\n      <th>weight</th>\n      <th>vader</th>\n    </tr>\n  </thead>\n  <tbody>\n    <tr>\n      <th>1063877</th>\n      <td>crypto</td>\n      <td>0.017253</td>\n      <td>0.0000</td>\n    </tr>\n    <tr>\n      <th>588139</th>\n      <td>bitcoin</td>\n      <td>0.012398</td>\n      <td>0.0000</td>\n    </tr>\n    <tr>\n      <th>2155360</th>\n      <td>just</td>\n      <td>0.008529</td>\n      <td>0.0000</td>\n    </tr>\n    <tr>\n      <th>2276787</th>\n      <td>like</td>\n      <td>0.007628</td>\n      <td>0.3612</td>\n    </tr>\n    <tr>\n      <th>2814336</th>\n      <td>people</td>\n      <td>0.006237</td>\n      <td>0.0000</td>\n    </tr>\n    <tr>\n      <th>...</th>\n      <td>...</td>\n      <td>...</td>\n      <td>...</td>\n    </tr>\n    <tr>\n      <th>3292351</th>\n      <td>run</td>\n      <td>0.001792</td>\n      <td>0.0000</td>\n    </tr>\n    <tr>\n      <th>3501528</th>\n      <td>smart</td>\n      <td>0.001787</td>\n      <td>0.4019</td>\n    </tr>\n    <tr>\n      <th>3868853</th>\n      <td>trade</td>\n      <td>0.001783</td>\n      <td>0.0000</td>\n    </tr>\n    <tr>\n      <th>2865196</th>\n      <td>platform</td>\n      <td>0.001769</td>\n      <td>0.0000</td>\n    </tr>\n    <tr>\n      <th>4237308</th>\n      <td>xrp</td>\n      <td>0.001766</td>\n      <td>0.0000</td>\n    </tr>\n  </tbody>\n</table>\n<p>150 rows × 3 columns</p>\n</div>"
     },
     "execution_count": 9,
     "metadata": {},
     "output_type": "execute_result"
    }
   ],
   "source": [
    "#Check the VADER values for each individual word.\n",
    "from vaderSentiment.vaderSentiment import SentimentIntensityAnalyzer\n",
    "analyzer = SentimentIntensityAnalyzer()\n",
    "def senticol(cols):\n",
    "    return analyzer.polarity_scores(cols)['compound']\n",
    "weights_df['vader'] = weights_df['term'].apply(senticol)\n",
    "weights_df.sort_values(by='weight', ascending=False).to_csv('wordweights.csv')\n",
    "weights_df.sort_values(by='weight', ascending=False).head(150)"
   ],
   "metadata": {
    "collapsed": false,
    "pycharm": {
     "name": "#%%\n"
    }
   }
  },
  {
   "cell_type": "markdown",
   "source": [
    "We notice that a lot of the most weighted words in each post don't actually have ratings, which means our model might not return accurate results (especially terms like hold, hodl, sel, long, moon, buy). We need to tweak the VADER lexicon to fit our standard of sentiment.\n",
    "\n"
   ],
   "metadata": {
    "collapsed": false,
    "pycharm": {
     "name": "#%% md\n"
    }
   }
  },
  {
   "cell_type": "code",
   "execution_count": 10,
   "outputs": [],
   "source": [
    "EditSIA = SentimentIntensityAnalyzer()\n",
    "new_words = {\n",
    "    'buy': 2,\n",
    "    'sell': -2,\n",
    "    'long': 0.8,\n",
    "    'buying': 2,\n",
    "    'selling': -2,\n",
    "    'dip': -1.5,\n",
    "    'hodl': 1.5,\n",
    "    'bull': 3,\n",
    "    'bear': -3,\n",
    "    'bullish': 3,\n",
    "    'bearish': -3,\n",
    "    'gold': 1.4,\n",
    "    'sold': -1,\n",
    "    'moon like': 2,\n",
    "    'to the moon': 3.2,\n",
    "    'purchase': 0.5,\n",
    "    'bull run': 3,\n",
    "    'bear market': -3,\n",
    "    'green': 3,\n",
    "    'correction': -3,\n",
    "    'fomo': -2,\n",
    "    'ath': 3,\n",
    "    'volatile': -2.5,\n",
    "    'rally': 2.5,\n",
    "    'underperform': -3,\n",
    "    'underperforming': -3,\n",
    "    'slamming': -2,\n",
    "    'slams': -2,\n",
    "    'bubble': -3,\n",
    "}\n",
    "EditSIA.lexicon.update(new_words)"
   ],
   "metadata": {
    "collapsed": false,
    "pycharm": {
     "name": "#%%\n"
    }
   }
  },
  {
   "cell_type": "code",
   "execution_count": 11,
   "outputs": [
    {
     "data": {
      "text/plain": "             term    weight   vader    edit\n1063877    crypto  0.017253  0.0000  0.0000\n588139    bitcoin  0.012398  0.0000  0.0000\n2155360      just  0.008529  0.0000  0.0000\n2276787      like  0.007628  0.3612  0.3612\n2814336    people  0.006237  0.0000  0.0000\n...           ...       ...     ...     ...\n3292351       run  0.001792  0.0000  0.0000\n3501528     smart  0.001787  0.4019  0.4019\n3868853     trade  0.001783  0.0000  0.0000\n2865196  platform  0.001769  0.0000  0.0000\n4237308       xrp  0.001766  0.0000  0.0000\n\n[150 rows x 4 columns]",
      "text/html": "<div>\n<style scoped>\n    .dataframe tbody tr th:only-of-type {\n        vertical-align: middle;\n    }\n\n    .dataframe tbody tr th {\n        vertical-align: top;\n    }\n\n    .dataframe thead th {\n        text-align: right;\n    }\n</style>\n<table border=\"1\" class=\"dataframe\">\n  <thead>\n    <tr style=\"text-align: right;\">\n      <th></th>\n      <th>term</th>\n      <th>weight</th>\n      <th>vader</th>\n      <th>edit</th>\n    </tr>\n  </thead>\n  <tbody>\n    <tr>\n      <th>1063877</th>\n      <td>crypto</td>\n      <td>0.017253</td>\n      <td>0.0000</td>\n      <td>0.0000</td>\n    </tr>\n    <tr>\n      <th>588139</th>\n      <td>bitcoin</td>\n      <td>0.012398</td>\n      <td>0.0000</td>\n      <td>0.0000</td>\n    </tr>\n    <tr>\n      <th>2155360</th>\n      <td>just</td>\n      <td>0.008529</td>\n      <td>0.0000</td>\n      <td>0.0000</td>\n    </tr>\n    <tr>\n      <th>2276787</th>\n      <td>like</td>\n      <td>0.007628</td>\n      <td>0.3612</td>\n      <td>0.3612</td>\n    </tr>\n    <tr>\n      <th>2814336</th>\n      <td>people</td>\n      <td>0.006237</td>\n      <td>0.0000</td>\n      <td>0.0000</td>\n    </tr>\n    <tr>\n      <th>...</th>\n      <td>...</td>\n      <td>...</td>\n      <td>...</td>\n      <td>...</td>\n    </tr>\n    <tr>\n      <th>3292351</th>\n      <td>run</td>\n      <td>0.001792</td>\n      <td>0.0000</td>\n      <td>0.0000</td>\n    </tr>\n    <tr>\n      <th>3501528</th>\n      <td>smart</td>\n      <td>0.001787</td>\n      <td>0.4019</td>\n      <td>0.4019</td>\n    </tr>\n    <tr>\n      <th>3868853</th>\n      <td>trade</td>\n      <td>0.001783</td>\n      <td>0.0000</td>\n      <td>0.0000</td>\n    </tr>\n    <tr>\n      <th>2865196</th>\n      <td>platform</td>\n      <td>0.001769</td>\n      <td>0.0000</td>\n      <td>0.0000</td>\n    </tr>\n    <tr>\n      <th>4237308</th>\n      <td>xrp</td>\n      <td>0.001766</td>\n      <td>0.0000</td>\n      <td>0.0000</td>\n    </tr>\n  </tbody>\n</table>\n<p>150 rows × 4 columns</p>\n</div>"
     },
     "execution_count": 11,
     "metadata": {},
     "output_type": "execute_result"
    }
   ],
   "source": [
    "def senticol2(cols):\n",
    "    return EditSIA.polarity_scores(cols)['compound']\n",
    "weights_df['edit'] = weights_df['term'].apply(senticol2)\n",
    "weights_df.sort_values(by='weight', ascending=False).to_csv('wordweights.csv')\n",
    "weights_df.sort_values(by='weight', ascending=False).head(150)"
   ],
   "metadata": {
    "collapsed": false,
    "pycharm": {
     "name": "#%%\n"
    }
   }
  },
  {
   "cell_type": "code",
   "execution_count": 15,
   "outputs": [
    {
     "data": {
      "text/plain": "        Unnamed: 0            author   created_utc      id  is_self  \\\n28407        28407     Dreampopgazer  1.629376e+09  p7dtk5      1.0   \n247379      247379       SuineGeniuS  1.613447e+09  lkux3f      0.0   \n211718      211718           jrm7262  1.618646e+09  msmonl      1.0   \n265613      265613    Cryptodragonnz  1.610862e+09  kz0jjz      0.0   \n79319        79319       BenderTheIV  1.626766e+09  onxb30      1.0   \n...            ...               ...           ...     ...      ...   \n201852      201852      OhWiseWizard  1.619066e+09  mvxcg1      1.0   \n11085        11085    nj_crypto_news  1.630356e+09  peqtmd      0.0   \n91456        91456  diamondhands_dev  1.625857e+09  oh256b      1.0   \n229027      229027          Kawalele  1.615881e+09  m63w0w      1.0   \n122373      122373         soundaraj  1.623163e+09  nv5fs9      0.0   \n\n           link_flair_text  num_comments  score  \\\n28407              TRADING          86.0    1.0   \n247379                 NaN           0.0    1.0   \n211718                 NaN           1.0    1.0   \n265613              COMEDY          38.0    1.0   \n79319           SELF-STORY          16.0    1.0   \n...                    ...           ...    ...   \n201852  FOCUSED-DISCUSSION           2.0    1.0   \n11085             EXCHANGE           2.0    1.0   \n91456             NEW-COIN          46.0    1.0   \n229027             TRADING           9.0    1.0   \n122373              COMEDY           4.0    1.0   \n\n                                                 selftext  \\\n28407   ['On 20/21 July a lot of the crypto space (and...   \n247379                                               ['']   \n211718  ['Hello Reddit Cryptocurrency Community,\\n\\nTh...   \n265613                                               ['']   \n79319   [\"I started this year investing at what was pr...   \n...                                                   ...   \n201852  ['Oasis Labs ([https://www', 'oasislabs', 'com...   \n11085                                                ['']   \n91456   ['I want to expand my portfolio as I only have...   \n229027  ['While the title is true, it is also true tha...   \n122373                                               ['']   \n\n                                                    title  \\\n28407   Did you buy the July bottom? A celebration of ...   \n247379                            Voyager referral thread   \n211718                               Is INX worth a punt?   \n265613  Hmmmmmm, this sounds familiar. Where have I se...   \n79319   This is the first bear I encountered in the wild!   \n...                                                   ...   \n201852  Oasis Labs / ROSE - How come I never see this ...   \n11085   NFT Marketplace OpenSea Seeks Urgent Team Expa...   \n91456                            Expanding the portfolio.   \n229027  1 Day of work traded for Bitcoin in the US in ...   \n122373            I think trump got scared about bitcoin😂   \n\n                                                      url  \\\n28407   https://www.reddit.com/r/CryptoCurrency/commen...   \n247379  /r/Voyagerreferralcodes/comments/lj4dca/referr...   \n211718  https://www.reddit.com/r/CryptoCurrency/commen...   \n265613                https://i.redd.it/3xgevzevytb61.jpg   \n79319   https://www.reddit.com/r/CryptoCurrency/commen...   \n...                                                   ...   \n201852  https://www.reddit.com/r/CryptoCurrency/commen...   \n11085   https://thecryptonewsweb.com/nft-marketplace-o...   \n91456   https://www.reddit.com/r/CryptoCurrency/commen...   \n229027  https://www.reddit.com/r/CryptoCurrency/commen...   \n122373                https://i.redd.it/myn7tli0z1471.jpg   \n\n                                                     data  \\\n28407   [Did you buy the July bottom? A celebration of...   \n247379                          [Voyager referral thread]   \n211718  [Is INX worth a punt?, Hello Reddit Cryptocurr...   \n265613  [Hmmmmmm, this sounds familiar. Where have I s...   \n79319   [This is the first bear I encountered in the w...   \n...                                                   ...   \n201852  [Oasis Labs / ROSE - How come I never see this...   \n11085   [NFT Marketplace OpenSea Seeks Urgent Team Exp...   \n91456   [Expanding the portfolio., I want to expand my...   \n229027  [1 Day of work traded for Bitcoin in the US in...   \n122373          [I think trump got scared about bitcoin😂]   \n\n                                                  rawdata  is_btc  is_eth  \\\n28407   Did you buy the July bottom? A celebration of ...    True    True   \n247379                            Voyager referral thread   False   False   \n211718  Is INX worth a punt? Hello Reddit Cryptocurren...   False   False   \n265613  Hmmmmmm, this sounds familiar. Where have I se...   False   False   \n79319   This is the first bear I encountered in the wi...   False   False   \n...                                                   ...     ...     ...   \n201852  Oasis Labs / ROSE - How come I never see this ...   False    True   \n11085   NFT Marketplace OpenSea Seeks Urgent Team Expa...   False   False   \n91456   Expanding the portfolio. I want to expand my p...   False    True   \n229027  1 Day of work traded for Bitcoin in the US in ...    True   False   \n122373            I think trump got scared about bitcoin😂    True   False   \n\n        is_doge     vader  new_vader  \n28407     False  0.276879   0.306421  \n247379    False  0.000000   0.000000  \n211718    False  0.090750   0.167217  \n265613    False  0.361200   0.361200  \n79319     False  0.110967   0.043783  \n...         ...       ...        ...  \n201852    False  0.117186   0.117186  \n11085     False  0.599400   0.599400  \n91456     False  0.535180   0.535180  \n229027    False  0.234600   0.250286  \n122373    False  0.000000   0.000000  \n\n[100 rows x 18 columns]",
      "text/html": "<div>\n<style scoped>\n    .dataframe tbody tr th:only-of-type {\n        vertical-align: middle;\n    }\n\n    .dataframe tbody tr th {\n        vertical-align: top;\n    }\n\n    .dataframe thead th {\n        text-align: right;\n    }\n</style>\n<table border=\"1\" class=\"dataframe\">\n  <thead>\n    <tr style=\"text-align: right;\">\n      <th></th>\n      <th>Unnamed: 0</th>\n      <th>author</th>\n      <th>created_utc</th>\n      <th>id</th>\n      <th>is_self</th>\n      <th>link_flair_text</th>\n      <th>num_comments</th>\n      <th>score</th>\n      <th>selftext</th>\n      <th>title</th>\n      <th>url</th>\n      <th>data</th>\n      <th>rawdata</th>\n      <th>is_btc</th>\n      <th>is_eth</th>\n      <th>is_doge</th>\n      <th>vader</th>\n      <th>new_vader</th>\n    </tr>\n  </thead>\n  <tbody>\n    <tr>\n      <th>28407</th>\n      <td>28407</td>\n      <td>Dreampopgazer</td>\n      <td>1.629376e+09</td>\n      <td>p7dtk5</td>\n      <td>1.0</td>\n      <td>TRADING</td>\n      <td>86.0</td>\n      <td>1.0</td>\n      <td>['On 20/21 July a lot of the crypto space (and...</td>\n      <td>Did you buy the July bottom? A celebration of ...</td>\n      <td>https://www.reddit.com/r/CryptoCurrency/commen...</td>\n      <td>[Did you buy the July bottom? A celebration of...</td>\n      <td>Did you buy the July bottom? A celebration of ...</td>\n      <td>True</td>\n      <td>True</td>\n      <td>False</td>\n      <td>0.276879</td>\n      <td>0.306421</td>\n    </tr>\n    <tr>\n      <th>247379</th>\n      <td>247379</td>\n      <td>SuineGeniuS</td>\n      <td>1.613447e+09</td>\n      <td>lkux3f</td>\n      <td>0.0</td>\n      <td>NaN</td>\n      <td>0.0</td>\n      <td>1.0</td>\n      <td>['']</td>\n      <td>Voyager referral thread</td>\n      <td>/r/Voyagerreferralcodes/comments/lj4dca/referr...</td>\n      <td>[Voyager referral thread]</td>\n      <td>Voyager referral thread</td>\n      <td>False</td>\n      <td>False</td>\n      <td>False</td>\n      <td>0.000000</td>\n      <td>0.000000</td>\n    </tr>\n    <tr>\n      <th>211718</th>\n      <td>211718</td>\n      <td>jrm7262</td>\n      <td>1.618646e+09</td>\n      <td>msmonl</td>\n      <td>1.0</td>\n      <td>NaN</td>\n      <td>1.0</td>\n      <td>1.0</td>\n      <td>['Hello Reddit Cryptocurrency Community,\\n\\nTh...</td>\n      <td>Is INX worth a punt?</td>\n      <td>https://www.reddit.com/r/CryptoCurrency/commen...</td>\n      <td>[Is INX worth a punt?, Hello Reddit Cryptocurr...</td>\n      <td>Is INX worth a punt? Hello Reddit Cryptocurren...</td>\n      <td>False</td>\n      <td>False</td>\n      <td>False</td>\n      <td>0.090750</td>\n      <td>0.167217</td>\n    </tr>\n    <tr>\n      <th>265613</th>\n      <td>265613</td>\n      <td>Cryptodragonnz</td>\n      <td>1.610862e+09</td>\n      <td>kz0jjz</td>\n      <td>0.0</td>\n      <td>COMEDY</td>\n      <td>38.0</td>\n      <td>1.0</td>\n      <td>['']</td>\n      <td>Hmmmmmm, this sounds familiar. Where have I se...</td>\n      <td>https://i.redd.it/3xgevzevytb61.jpg</td>\n      <td>[Hmmmmmm, this sounds familiar. Where have I s...</td>\n      <td>Hmmmmmm, this sounds familiar. Where have I se...</td>\n      <td>False</td>\n      <td>False</td>\n      <td>False</td>\n      <td>0.361200</td>\n      <td>0.361200</td>\n    </tr>\n    <tr>\n      <th>79319</th>\n      <td>79319</td>\n      <td>BenderTheIV</td>\n      <td>1.626766e+09</td>\n      <td>onxb30</td>\n      <td>1.0</td>\n      <td>SELF-STORY</td>\n      <td>16.0</td>\n      <td>1.0</td>\n      <td>[\"I started this year investing at what was pr...</td>\n      <td>This is the first bear I encountered in the wild!</td>\n      <td>https://www.reddit.com/r/CryptoCurrency/commen...</td>\n      <td>[This is the first bear I encountered in the w...</td>\n      <td>This is the first bear I encountered in the wi...</td>\n      <td>False</td>\n      <td>False</td>\n      <td>False</td>\n      <td>0.110967</td>\n      <td>0.043783</td>\n    </tr>\n    <tr>\n      <th>...</th>\n      <td>...</td>\n      <td>...</td>\n      <td>...</td>\n      <td>...</td>\n      <td>...</td>\n      <td>...</td>\n      <td>...</td>\n      <td>...</td>\n      <td>...</td>\n      <td>...</td>\n      <td>...</td>\n      <td>...</td>\n      <td>...</td>\n      <td>...</td>\n      <td>...</td>\n      <td>...</td>\n      <td>...</td>\n      <td>...</td>\n    </tr>\n    <tr>\n      <th>201852</th>\n      <td>201852</td>\n      <td>OhWiseWizard</td>\n      <td>1.619066e+09</td>\n      <td>mvxcg1</td>\n      <td>1.0</td>\n      <td>FOCUSED-DISCUSSION</td>\n      <td>2.0</td>\n      <td>1.0</td>\n      <td>['Oasis Labs ([https://www', 'oasislabs', 'com...</td>\n      <td>Oasis Labs / ROSE - How come I never see this ...</td>\n      <td>https://www.reddit.com/r/CryptoCurrency/commen...</td>\n      <td>[Oasis Labs / ROSE - How come I never see this...</td>\n      <td>Oasis Labs / ROSE - How come I never see this ...</td>\n      <td>False</td>\n      <td>True</td>\n      <td>False</td>\n      <td>0.117186</td>\n      <td>0.117186</td>\n    </tr>\n    <tr>\n      <th>11085</th>\n      <td>11085</td>\n      <td>nj_crypto_news</td>\n      <td>1.630356e+09</td>\n      <td>peqtmd</td>\n      <td>0.0</td>\n      <td>EXCHANGE</td>\n      <td>2.0</td>\n      <td>1.0</td>\n      <td>['']</td>\n      <td>NFT Marketplace OpenSea Seeks Urgent Team Expa...</td>\n      <td>https://thecryptonewsweb.com/nft-marketplace-o...</td>\n      <td>[NFT Marketplace OpenSea Seeks Urgent Team Exp...</td>\n      <td>NFT Marketplace OpenSea Seeks Urgent Team Expa...</td>\n      <td>False</td>\n      <td>False</td>\n      <td>False</td>\n      <td>0.599400</td>\n      <td>0.599400</td>\n    </tr>\n    <tr>\n      <th>91456</th>\n      <td>91456</td>\n      <td>diamondhands_dev</td>\n      <td>1.625857e+09</td>\n      <td>oh256b</td>\n      <td>1.0</td>\n      <td>NEW-COIN</td>\n      <td>46.0</td>\n      <td>1.0</td>\n      <td>['I want to expand my portfolio as I only have...</td>\n      <td>Expanding the portfolio.</td>\n      <td>https://www.reddit.com/r/CryptoCurrency/commen...</td>\n      <td>[Expanding the portfolio., I want to expand my...</td>\n      <td>Expanding the portfolio. I want to expand my p...</td>\n      <td>False</td>\n      <td>True</td>\n      <td>False</td>\n      <td>0.535180</td>\n      <td>0.535180</td>\n    </tr>\n    <tr>\n      <th>229027</th>\n      <td>229027</td>\n      <td>Kawalele</td>\n      <td>1.615881e+09</td>\n      <td>m63w0w</td>\n      <td>1.0</td>\n      <td>TRADING</td>\n      <td>9.0</td>\n      <td>1.0</td>\n      <td>['While the title is true, it is also true tha...</td>\n      <td>1 Day of work traded for Bitcoin in the US in ...</td>\n      <td>https://www.reddit.com/r/CryptoCurrency/commen...</td>\n      <td>[1 Day of work traded for Bitcoin in the US in...</td>\n      <td>1 Day of work traded for Bitcoin in the US in ...</td>\n      <td>True</td>\n      <td>False</td>\n      <td>False</td>\n      <td>0.234600</td>\n      <td>0.250286</td>\n    </tr>\n    <tr>\n      <th>122373</th>\n      <td>122373</td>\n      <td>soundaraj</td>\n      <td>1.623163e+09</td>\n      <td>nv5fs9</td>\n      <td>0.0</td>\n      <td>COMEDY</td>\n      <td>4.0</td>\n      <td>1.0</td>\n      <td>['']</td>\n      <td>I think trump got scared about bitcoin😂</td>\n      <td>https://i.redd.it/myn7tli0z1471.jpg</td>\n      <td>[I think trump got scared about bitcoin😂]</td>\n      <td>I think trump got scared about bitcoin😂</td>\n      <td>True</td>\n      <td>False</td>\n      <td>False</td>\n      <td>0.000000</td>\n      <td>0.000000</td>\n    </tr>\n  </tbody>\n</table>\n<p>100 rows × 18 columns</p>\n</div>"
     },
     "execution_count": 15,
     "metadata": {},
     "output_type": "execute_result"
    }
   ],
   "source": [
    "#Randomly sample some reddit posts, see if they have more accurate sentiment analyses.\n",
    "\n",
    "postsamp = df.copy().sample(100, random_state=10)\n",
    "def vadersent(cols):\n",
    "    compound = []\n",
    "    for i in range(0, len(cols['data'])):\n",
    "        score = analyzer.polarity_scores(cols['data'][i])\n",
    "        compound.append(score['compound'])\n",
    "    return np.mean(compound)\n",
    "\n",
    "def vadersent2(cols):\n",
    "    compound = []\n",
    "    for i in range(0, len(cols['data'])):\n",
    "        score = EditSIA.polarity_scores(cols['data'][i])\n",
    "        compound.append(score['compound'])\n",
    "    return np.mean(compound)\n",
    "\n",
    "postsamp['vader'] = postsamp.apply(vadersent, axis=1)\n",
    "postsamp['new_vader'] = postsamp.apply(vadersent2, axis=1)\n",
    "postsamp"
   ],
   "metadata": {
    "collapsed": false,
    "pycharm": {
     "name": "#%%\n"
    }
   }
  },
  {
   "cell_type": "markdown",
   "source": [
    "A few things we can notice with the new VADER model:\n",
    "- VADER still has trouble determining words like \"never\" and \"can't\" to invert certain sentiment values. This is a big problem especially when it comes to certain sentences that say \"never bullish\" or \"can't go to the moon\", which are interpreted positively. This is the biggest problem for accurate sentiment analysis.\n",
    "- Customizing the model actually flips certain posts making them positive instead of negative, which is actually extremely helpful for accuracy purposes.\n",
    "- Most changes, however, are extremely marginal in the scope of the entire sentiment analysis, which could mean that the posts were already accurate to begin with, there needs to be more custom words added to the model, or the average of the sentences in the posts are not a valid method of getting a total sentiment value.\n",
    "\n",
    "To edit the existing data that shows in the cell above, change the random_value integer to another integer and the dataset will change.\n",
    "\n",
    "Below, I w"
   ],
   "metadata": {
    "collapsed": false,
    "pycharm": {
     "name": "#%% md\n"
    }
   }
  },
  {
   "cell_type": "code",
   "execution_count": 13,
   "outputs": [],
   "source": [
    "#Now we can sort the crypto posts by what coin they describe, starting with bitcoin, etherium, and doge.\n",
    "df['is_btc'] = (df['rawdata'].str.lower().str.contains('btc | bitcoin'))\n",
    "df['is_eth'] = (df['rawdata'].str.lower().str.contains('eth | etherium'))\n",
    "df['is_doge'] = (df['rawdata'].str.lower().str.contains('doge | dogecoin'))\n",
    "btc_only = df.where(df['is_btc'] == True).dropna(how='all')\n",
    "eth_only = df.where(df['is_eth'] == True).dropna(how='all')\n",
    "doge_only = df.where(df['is_doge'] == True).dropna(how='all')"
   ],
   "metadata": {
    "collapsed": false,
    "pycharm": {
     "name": "#%%\n"
    }
   }
  },
  {
   "cell_type": "code",
   "execution_count": 14,
   "outputs": [
    {
     "ename": "NameError",
     "evalue": "name 'TfidfVectorizer' is not defined",
     "output_type": "error",
     "traceback": [
      "\u001B[1;31m---------------------------------------------------------------------------\u001B[0m",
      "\u001B[1;31mNameError\u001B[0m                                 Traceback (most recent call last)",
      "\u001B[1;32m~\\AppData\\Local\\Temp/ipykernel_9640/3818274349.py\u001B[0m in \u001B[0;36m<module>\u001B[1;34m\u001B[0m\n\u001B[1;32m----> 1\u001B[1;33m \u001B[0mbtcv\u001B[0m \u001B[1;33m=\u001B[0m \u001B[0mTfidfVectorizer\u001B[0m\u001B[1;33m(\u001B[0m\u001B[1;33m)\u001B[0m\u001B[1;33m\u001B[0m\u001B[1;33m\u001B[0m\u001B[0m\n\u001B[0m\u001B[0;32m      2\u001B[0m \u001B[0mbtcX\u001B[0m \u001B[1;33m=\u001B[0m \u001B[0mbtcv\u001B[0m\u001B[1;33m.\u001B[0m\u001B[0mfit_transform\u001B[0m\u001B[1;33m(\u001B[0m\u001B[0mbtc_only\u001B[0m\u001B[1;33m[\u001B[0m\u001B[1;34m'rawdata'\u001B[0m\u001B[1;33m]\u001B[0m\u001B[1;33m)\u001B[0m\u001B[1;33m\u001B[0m\u001B[1;33m\u001B[0m\u001B[0m\n\u001B[0;32m      3\u001B[0m \u001B[0mtfidf\u001B[0m \u001B[1;33m=\u001B[0m \u001B[0mdict\u001B[0m\u001B[1;33m(\u001B[0m\u001B[0mzip\u001B[0m\u001B[1;33m(\u001B[0m\u001B[0mbtcv\u001B[0m\u001B[1;33m.\u001B[0m\u001B[0mget_feature_names\u001B[0m\u001B[1;33m(\u001B[0m\u001B[1;33m)\u001B[0m\u001B[1;33m,\u001B[0m \u001B[0mbtcX\u001B[0m\u001B[1;33m.\u001B[0m\u001B[0mtoarray\u001B[0m\u001B[1;33m(\u001B[0m\u001B[1;33m)\u001B[0m\u001B[1;33m[\u001B[0m\u001B[1;36m0\u001B[0m\u001B[1;33m]\u001B[0m\u001B[1;33m)\u001B[0m\u001B[1;33m)\u001B[0m\u001B[1;33m\u001B[0m\u001B[1;33m\u001B[0m\u001B[0m\n\u001B[0;32m      4\u001B[0m \u001B[0mdict\u001B[0m\u001B[1;33m(\u001B[0m\u001B[0msorted\u001B[0m\u001B[1;33m(\u001B[0m\u001B[0mtfidf\u001B[0m\u001B[1;33m.\u001B[0m\u001B[0mitems\u001B[0m\u001B[1;33m(\u001B[0m\u001B[1;33m)\u001B[0m\u001B[1;33m,\u001B[0m \u001B[0mkey\u001B[0m\u001B[1;33m=\u001B[0m\u001B[1;32mlambda\u001B[0m \u001B[0mitem\u001B[0m\u001B[1;33m:\u001B[0m \u001B[0mitem\u001B[0m\u001B[1;33m[\u001B[0m\u001B[1;36m1\u001B[0m\u001B[1;33m]\u001B[0m\u001B[1;33m,\u001B[0m \u001B[0mreverse\u001B[0m\u001B[1;33m=\u001B[0m\u001B[1;32mTrue\u001B[0m\u001B[1;33m)\u001B[0m\u001B[1;33m)\u001B[0m\u001B[1;33m\u001B[0m\u001B[1;33m\u001B[0m\u001B[0m\n",
      "\u001B[1;31mNameError\u001B[0m: name 'TfidfVectorizer' is not defined"
     ]
    }
   ],
   "source": [
    "#Bitcoin TF-IDF\n",
    "btcv = TfidfVectorizer()\n",
    "btcX = btcv.fit_transform(btc_only['rawdata'])\n",
    "tfidf = dict(zip(btcv.get_feature_names(), btcX.toarray()[0]))\n",
    "dict(sorted(tfidf.items(), key=lambda item: item[1], reverse=True))"
   ],
   "metadata": {
    "collapsed": false,
    "pycharm": {
     "name": "#%%\n"
    }
   }
  },
  {
   "cell_type": "code",
   "execution_count": null,
   "outputs": [],
   "source": [],
   "metadata": {
    "collapsed": false,
    "pycharm": {
     "name": "#%%\n"
    }
   }
  }
 ],
 "metadata": {
  "kernelspec": {
   "display_name": "Python 3",
   "language": "python",
   "name": "python3"
  },
  "language_info": {
   "codemirror_mode": {
    "name": "ipython",
    "version": 2
   },
   "file_extension": ".py",
   "mimetype": "text/x-python",
   "name": "python",
   "nbconvert_exporter": "python",
   "pygments_lexer": "ipython2",
   "version": "2.7.6"
  }
 },
 "nbformat": 4,
 "nbformat_minor": 0
}