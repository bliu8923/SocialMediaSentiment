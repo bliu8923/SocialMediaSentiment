{
 "cells": [
  {
   "cell_type": "code",
   "execution_count": 3,
   "metadata": {},
   "outputs": [],
   "source": [
    "import requests as re\n",
    "from vaderSentiment.vaderSentiment import SentimentIntensityAnalyzer\n",
    "import pandas as pd\n",
    "import numpy\n",
    "import os\n",
    "import sys\n",
    "import time"
   ]
  },
  {
   "cell_type": "code",
   "execution_count": 6,
   "metadata": {
    "pycharm": {
     "name": "#%%\n"
    }
   },
   "outputs": [
    {
     "data": {
      "text/plain": "                  author   created_utc      id  is_self link_flair_text  \\\n0          Winter_Writer  1.628833e+09  p3habg      1.0      SELF-STORY   \n1               ml177689  1.628833e+09  p3h9ng      0.0         PRIVACY   \n2              laegoiste  1.628833e+09  p3h9da      0.0       🟢 FINANCE   \n3              laegoiste  1.628833e+09  p3h94l      0.0       🟢 METRICS   \n4    PatientPreparation4  1.628833e+09  p3h76k      1.0        SECURITY   \n..                   ...           ...     ...      ...             ...   \n131           omar366266  1.628825e+09  p3fgdf      0.0      🟢 SECURITY   \n132             Kinfan61  1.628825e+09  p3fgaa      1.0         FINANCE   \n133   OurTimeToShine3521  1.628825e+09  p3fg4h      0.0         🟢 MEDIA   \n134         0x01moretime  1.628825e+09  p3ffy0      1.0      SELF-STORY   \n135   OurTimeToShine3521  1.628825e+09  p3ffab      0.0           MEDIA   \n\n     num_comments removed_by_category  score  \\\n0             0.0                 NaN    1.0   \n1             0.0    automod_filtered    1.0   \n2             1.0                 NaN    1.0   \n3             0.0                 NaN    1.0   \n4             0.0                 NaN    1.0   \n..            ...                 ...    ...   \n131           0.0                 NaN    1.0   \n132           0.0                 NaN    1.0   \n133           0.0                 NaN    1.0   \n134           0.0                 NaN    1.0   \n135           0.0                 NaN    1.0   \n\n                                              selftext  \\\n0    Hi everyone, dropping my first post here to ge...   \n1                                                        \n2                                                        \n3                                                        \n4    Was checking my trust wallet since I found out...   \n..                                                 ...   \n131                                                      \n132  We are just in the beginning of something new ...   \n133                                                      \n134  Hello all, I'm a Cybersecurity Consultant who ...   \n135                                                      \n\n                                                 title  \\\n0                 Talking to Your Parents about Crypto   \n1    Robinhood hacker alert. This guy hacked my inf...   \n2    Institutional clients are pushing NYDIG and Fi...   \n3        Layer-1 Platforms: A Framework for Comparison   \n4    Warning about Fake Coins showing up in my trus...   \n..                                                 ...   \n131  ‘White hat’ hacker behind $610m crypto heist r...   \n132                                  Invest in crypto?   \n133  Inside Cuba’s Bitcoin Revolution | Bitcoin Mag...   \n134                           On the recent POLY hack.   \n135  Commentary: Defusing the crypto broker bomb in...   \n\n                                                   url  \\\n0    https://www.reddit.com/r/CryptoCurrency/commen...   \n1                  https://i.redd.it/jhnicibab2h71.jpg   \n2    https://www.theblockcrypto.com/daily/114254/in...   \n3    https://www.theblockcrypto.com/post/114225/lay...   \n4    https://www.reddit.com/r/CryptoCurrency/commen...   \n..                                                 ...   \n131  https://www.theguardian.com/technology/2021/au...   \n132  https://www.reddit.com/r/CryptoCurrency/commen...   \n133  https://bitcoinmagazine-com.cdn.ampproject.org...   \n134  https://www.reddit.com/r/CryptoCurrency/commen...   \n135  https://fortune.com/2021/08/12/crypto-tax-regu...   \n\n                                                  data  \n0    Talking to Your Parents about Crypto - Hi ever...  \n1    Robinhood hacker alert. This guy hacked my inf...  \n2    Institutional clients are pushing NYDIG and Fi...  \n3     Layer-1 Platforms: A Framework for Comparison -   \n4    Warning about Fake Coins showing up in my trus...  \n..                                                 ...  \n131  ‘White hat’ hacker behind $610m crypto heist r...  \n132  Invest in crypto? - We are just in the beginni...  \n133  Inside Cuba’s Bitcoin Revolution | Bitcoin Mag...  \n134  On the recent POLY hack. - Hello all, I'm a Cy...  \n135  Commentary: Defusing the crypto broker bomb in...  \n\n[136 rows x 12 columns]",
      "text/html": "<div>\n<style scoped>\n    .dataframe tbody tr th:only-of-type {\n        vertical-align: middle;\n    }\n\n    .dataframe tbody tr th {\n        vertical-align: top;\n    }\n\n    .dataframe thead th {\n        text-align: right;\n    }\n</style>\n<table border=\"1\" class=\"dataframe\">\n  <thead>\n    <tr style=\"text-align: right;\">\n      <th></th>\n      <th>author</th>\n      <th>created_utc</th>\n      <th>id</th>\n      <th>is_self</th>\n      <th>link_flair_text</th>\n      <th>num_comments</th>\n      <th>removed_by_category</th>\n      <th>score</th>\n      <th>selftext</th>\n      <th>title</th>\n      <th>url</th>\n      <th>data</th>\n    </tr>\n  </thead>\n  <tbody>\n    <tr>\n      <th>0</th>\n      <td>Winter_Writer</td>\n      <td>1.628833e+09</td>\n      <td>p3habg</td>\n      <td>1.0</td>\n      <td>SELF-STORY</td>\n      <td>0.0</td>\n      <td>NaN</td>\n      <td>1.0</td>\n      <td>Hi everyone, dropping my first post here to ge...</td>\n      <td>Talking to Your Parents about Crypto</td>\n      <td>https://www.reddit.com/r/CryptoCurrency/commen...</td>\n      <td>Talking to Your Parents about Crypto - Hi ever...</td>\n    </tr>\n    <tr>\n      <th>1</th>\n      <td>ml177689</td>\n      <td>1.628833e+09</td>\n      <td>p3h9ng</td>\n      <td>0.0</td>\n      <td>PRIVACY</td>\n      <td>0.0</td>\n      <td>automod_filtered</td>\n      <td>1.0</td>\n      <td></td>\n      <td>Robinhood hacker alert. This guy hacked my inf...</td>\n      <td>https://i.redd.it/jhnicibab2h71.jpg</td>\n      <td>Robinhood hacker alert. This guy hacked my inf...</td>\n    </tr>\n    <tr>\n      <th>2</th>\n      <td>laegoiste</td>\n      <td>1.628833e+09</td>\n      <td>p3h9da</td>\n      <td>0.0</td>\n      <td>🟢 FINANCE</td>\n      <td>1.0</td>\n      <td>NaN</td>\n      <td>1.0</td>\n      <td></td>\n      <td>Institutional clients are pushing NYDIG and Fi...</td>\n      <td>https://www.theblockcrypto.com/daily/114254/in...</td>\n      <td>Institutional clients are pushing NYDIG and Fi...</td>\n    </tr>\n    <tr>\n      <th>3</th>\n      <td>laegoiste</td>\n      <td>1.628833e+09</td>\n      <td>p3h94l</td>\n      <td>0.0</td>\n      <td>🟢 METRICS</td>\n      <td>0.0</td>\n      <td>NaN</td>\n      <td>1.0</td>\n      <td></td>\n      <td>Layer-1 Platforms: A Framework for Comparison</td>\n      <td>https://www.theblockcrypto.com/post/114225/lay...</td>\n      <td>Layer-1 Platforms: A Framework for Comparison -</td>\n    </tr>\n    <tr>\n      <th>4</th>\n      <td>PatientPreparation4</td>\n      <td>1.628833e+09</td>\n      <td>p3h76k</td>\n      <td>1.0</td>\n      <td>SECURITY</td>\n      <td>0.0</td>\n      <td>NaN</td>\n      <td>1.0</td>\n      <td>Was checking my trust wallet since I found out...</td>\n      <td>Warning about Fake Coins showing up in my trus...</td>\n      <td>https://www.reddit.com/r/CryptoCurrency/commen...</td>\n      <td>Warning about Fake Coins showing up in my trus...</td>\n    </tr>\n    <tr>\n      <th>...</th>\n      <td>...</td>\n      <td>...</td>\n      <td>...</td>\n      <td>...</td>\n      <td>...</td>\n      <td>...</td>\n      <td>...</td>\n      <td>...</td>\n      <td>...</td>\n      <td>...</td>\n      <td>...</td>\n      <td>...</td>\n    </tr>\n    <tr>\n      <th>131</th>\n      <td>omar366266</td>\n      <td>1.628825e+09</td>\n      <td>p3fgdf</td>\n      <td>0.0</td>\n      <td>🟢 SECURITY</td>\n      <td>0.0</td>\n      <td>NaN</td>\n      <td>1.0</td>\n      <td></td>\n      <td>‘White hat’ hacker behind $610m crypto heist r...</td>\n      <td>https://www.theguardian.com/technology/2021/au...</td>\n      <td>‘White hat’ hacker behind $610m crypto heist r...</td>\n    </tr>\n    <tr>\n      <th>132</th>\n      <td>Kinfan61</td>\n      <td>1.628825e+09</td>\n      <td>p3fgaa</td>\n      <td>1.0</td>\n      <td>FINANCE</td>\n      <td>0.0</td>\n      <td>NaN</td>\n      <td>1.0</td>\n      <td>We are just in the beginning of something new ...</td>\n      <td>Invest in crypto?</td>\n      <td>https://www.reddit.com/r/CryptoCurrency/commen...</td>\n      <td>Invest in crypto? - We are just in the beginni...</td>\n    </tr>\n    <tr>\n      <th>133</th>\n      <td>OurTimeToShine3521</td>\n      <td>1.628825e+09</td>\n      <td>p3fg4h</td>\n      <td>0.0</td>\n      <td>🟢 MEDIA</td>\n      <td>0.0</td>\n      <td>NaN</td>\n      <td>1.0</td>\n      <td></td>\n      <td>Inside Cuba’s Bitcoin Revolution | Bitcoin Mag...</td>\n      <td>https://bitcoinmagazine-com.cdn.ampproject.org...</td>\n      <td>Inside Cuba’s Bitcoin Revolution | Bitcoin Mag...</td>\n    </tr>\n    <tr>\n      <th>134</th>\n      <td>0x01moretime</td>\n      <td>1.628825e+09</td>\n      <td>p3ffy0</td>\n      <td>1.0</td>\n      <td>SELF-STORY</td>\n      <td>0.0</td>\n      <td>NaN</td>\n      <td>1.0</td>\n      <td>Hello all, I'm a Cybersecurity Consultant who ...</td>\n      <td>On the recent POLY hack.</td>\n      <td>https://www.reddit.com/r/CryptoCurrency/commen...</td>\n      <td>On the recent POLY hack. - Hello all, I'm a Cy...</td>\n    </tr>\n    <tr>\n      <th>135</th>\n      <td>OurTimeToShine3521</td>\n      <td>1.628825e+09</td>\n      <td>p3ffab</td>\n      <td>0.0</td>\n      <td>MEDIA</td>\n      <td>0.0</td>\n      <td>NaN</td>\n      <td>1.0</td>\n      <td></td>\n      <td>Commentary: Defusing the crypto broker bomb in...</td>\n      <td>https://fortune.com/2021/08/12/crypto-tax-regu...</td>\n      <td>Commentary: Defusing the crypto broker bomb in...</td>\n    </tr>\n  </tbody>\n</table>\n<p>136 rows × 12 columns</p>\n</div>"
     },
     "execution_count": 6,
     "metadata": {},
     "output_type": "execute_result"
    }
   ],
   "source": [
    "df = pd.DataFrame()\n",
    "while len(df) < 100:\n",
    "    if len(df) == 0:\n",
    "        r = re.get('https://api.pushshift.io/reddit/search/submission/?subreddit=CryptoCurrency&size=100')\n",
    "    else:\n",
    "        r = re.get('https://api.pushshift.io/reddit/search/submission/?subreddit=CryptoCurrency&size=100&before=' + str(int(df.iloc[-1]['created_utc'])))\n",
    "    if r.status_code == 200:\n",
    "        r = pd.json_normalize(r.json(), record_path='data')[['author', 'created_utc', 'id', 'is_self', 'link_flair_text', 'num_comments', 'removed_by_category', 'score', 'selftext', 'title', 'url']]\n",
    "        r = r.where((len(r['selftext']) > 1) & (r['selftext'] != '[removed]') & (r['selftext'] != '[deleted]')).dropna(how='all')\n",
    "        r['data'] = r[['title', 'selftext']].agg(' - '.join, axis=1)\n",
    "        df = pd.concat([df, r], ignore_index=True)\n",
    "    else:\n",
    "        time.sleep(15)\n",
    "df"
   ]
  },
  {
   "cell_type": "code",
   "execution_count": 9,
   "metadata": {
    "pycharm": {
     "name": "#%%\n"
    }
   },
   "outputs": [
    {
     "name": "stderr",
     "output_type": "stream",
     "text": [
      "C:\\Users\\tbone\\AppData\\Local\\Packages\\PythonSoftwareFoundation.Python.3.9_qbz5n2kfra8p0\\LocalCache\\local-packages\\Python39\\site-packages\\pandas\\core\\frame.py:3191: SettingWithCopyWarning: \n",
      "A value is trying to be set on a copy of a slice from a DataFrame.\n",
      "Try using .loc[row_indexer,col_indexer] = value instead\n",
      "\n",
      "See the caveats in the documentation: https://pandas.pydata.org/pandas-docs/stable/user_guide/indexing.html#returning-a-view-versus-a-copy\n",
      "  self[k1] = value[k2]\n"
     ]
    }
   ],
   "source": [
    "analyzer = SentimentIntensityAnalyzer()\n",
    "\n",
    "def senticol(cols):\n",
    "    scores = analyzer.polarity_scores(cols[0])\n",
    "    return pd.Series([scores['neg'], scores['neu'], scores['pos'], scores['compound']])\n",
    "\n",
    "texts = df[['data']]\n",
    "texts[['neg','neu','pos','compound']] = texts.apply(senticol, axis=1)\n",
    "texts.to_csv('newscores.csv')"
   ]
  },
  {
   "cell_type": "code",
   "execution_count": 28,
   "metadata": {
    "pycharm": {
     "name": "#%%\n"
    }
   },
   "outputs": [
    {
     "ename": "ModuleNotFoundError",
     "evalue": "No module named 'spacytextblob'",
     "output_type": "error",
     "traceback": [
      "\u001B[1;31m---------------------------------------------------------------------------\u001B[0m",
      "\u001B[1;31mModuleNotFoundError\u001B[0m                       Traceback (most recent call last)",
      "\u001B[1;32m<ipython-input-28-c50cb9c49507>\u001B[0m in \u001B[0;36m<module>\u001B[1;34m\u001B[0m\n\u001B[0;32m      1\u001B[0m \u001B[1;32mimport\u001B[0m \u001B[0mspacy\u001B[0m\u001B[1;33m\u001B[0m\u001B[1;33m\u001B[0m\u001B[0m\n\u001B[1;32m----> 2\u001B[1;33m \u001B[1;32mfrom\u001B[0m \u001B[0mspacytextblob\u001B[0m\u001B[1;33m.\u001B[0m\u001B[0mspacytextblob\u001B[0m \u001B[1;32mimport\u001B[0m \u001B[0mSpacyTextBlob\u001B[0m\u001B[1;33m\u001B[0m\u001B[1;33m\u001B[0m\u001B[0m\n\u001B[0m",
      "\u001B[1;31mModuleNotFoundError\u001B[0m: No module named 'spacytextblob'"
     ]
    }
   ],
   "source": [
    "import spacy\n",
    "from spacytextblob.spacytextblob import SpacyTextBlob\n"
   ]
  },
  {
   "cell_type": "code",
   "execution_count": null,
   "metadata": {},
   "outputs": [],
   "source": []
  }
 ],
 "metadata": {
  "kernelspec": {
   "display_name": "Python 3",
   "language": "python",
   "name": "python3"
  },
  "language_info": {
   "codemirror_mode": {
    "name": "ipython",
    "version": 3
   },
   "file_extension": ".py",
   "mimetype": "text/x-python",
   "name": "python",
   "nbconvert_exporter": "python",
   "pygments_lexer": "ipython3",
   "version": "3.9.6"
  }
 },
 "nbformat": 4,
 "nbformat_minor": 4
}